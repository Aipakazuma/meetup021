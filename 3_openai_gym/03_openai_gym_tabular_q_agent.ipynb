{
 "cells": [
  {
   "cell_type": "markdown",
   "metadata": {},
   "source": [
    "# 強化学習\n",
    "\n",
    "参考資料\n",
    "\n",
    "- https://github.com/openai/gym/tree/master/examples/agents\n",
    "- https://gym.openai.com/evaluations/eval_R3GAx3QQQpOz0G7R0AjT5g\n",
    "- https://gym.openai.com/evaluations/eval_DFWdtrdSCikuZWwf8HN8A#reproducibility\n",
    "- https://gym.openai.com/evaluations/eval_FlKoFCmZSiu3c2M2W54jFw"
   ]
  },
  {
   "cell_type": "markdown",
   "metadata": {},
   "source": [
    "$$\n",
    "\\mathrm{MDP} \\equiv \\{\\mathcal{S}, \\mathcal{A}, P_{ss'}^{a}, R_{ss'}^{a}, \\gamma\\}\n",
    "$$\n",
    "\n",
    "$$\n",
    "(s, a, r, s', a')\n",
    "$$\n",
    "\n",
    "### Q学習 (off policy method)\n",
    "\n",
    "$$\n",
    "\\Delta \\hat{Q}^{*}(s, a) = (r + \\gamma \\max_{a'} \\hat{Q}^{*}(s', a'; \\theta) - \\hat{Q}^{*}(s, a; \\theta)) \\\\\n",
    "\\hat{Q}^{*}(s, a) := \\hat{Q}^{*}(s, a) + \\alpha \\Delta \\hat{Q}^{*}(s, a)\n",
    "$$\n",
    "\n",
    "### SARSA (on policy method)\n",
    "\n",
    "$$\n",
    "\\Delta \\hat{Q}^{\\pi}(s, a) = (r + \\gamma \\hat{Q}^{\\pi}(s', a') - \\hat{Q}^{\\pi}(s, a)) \\\\\n",
    "\\hat{Q}^{\\pi}(s, a) := \\hat{Q}^{\\pi}(s, a) + \\alpha \\Delta \\hat{Q}^{\\pi}(s, a)\\\\\n",
    "$$\n",
    "\n",
    "\n",
    "### 実装\n",
    "\n",
    "- 状態: テーブル状の状態表現\n",
    "- 学習アルゴリズム: Q学習\n",
    "- 実装（変なので気をつける）: https://github.com/openai/gym/blob/master/examples/agents/tabular_q_agent.py"
   ]
  },
  {
   "cell_type": "code",
   "execution_count": 1,
   "metadata": {
    "collapsed": true
   },
   "outputs": [],
   "source": [
    "%matplotlib inline\n",
    "import matplotlib.pyplot as plt\n",
    "\n",
    "import numpy as np\n",
    "np.random.seed(42)\n",
    "\n",
    "import gym\n",
    "from gym import wrappers"
   ]
  },
  {
   "cell_type": "code",
   "execution_count": 2,
   "metadata": {
    "collapsed": false,
    "scrolled": false
   },
   "outputs": [
    {
     "name": "stderr",
     "output_type": "stream",
     "text": [
      "[2017-01-20 18:33:05,344] Making new env: FrozenLake-v0\n",
      "[2017-01-20 18:33:05,375] DEPRECATION WARNING: env.spec.timestep_limit has been deprecated. Replace your call to `env.spec.timestep_limit` with `env.spec.tags.get('wrapper_config.TimeLimit.max_episode_steps')`. This change was made 12/28/2016 and is included in version 0.7.0\n",
      "[2017-01-20 18:33:05,376] Clearing 60 monitor files from previous run (because force=True was provided)\n"
     ]
    }
   ],
   "source": [
    "# 環境の生成\n",
    "#env = gym.make('CartPole-v0')\n",
    "env = gym.make('FrozenLake-v0')\n",
    "env.seed(42)\n",
    "\n",
    "env = wrappers.Monitor(env, './frozenlake-v0-q-learning-softmax-01', force=True)"
   ]
  },
  {
   "cell_type": "code",
   "execution_count": 3,
   "metadata": {
    "collapsed": false,
    "scrolled": true
   },
   "outputs": [
    {
     "name": "stdout",
     "output_type": "stream",
     "text": [
      "\u001b[41mS\u001b[0mFFF\n",
      "FHFH\n",
      "FFFH\n",
      "HFFG\n",
      "\n"
     ]
    },
    {
     "data": {
      "text/plain": [
       "<ipykernel.iostream.OutStream at 0x105fb4510>"
      ]
     },
     "execution_count": 3,
     "metadata": {},
     "output_type": "execute_result"
    }
   ],
   "source": [
    "env.render()"
   ]
  },
  {
   "cell_type": "code",
   "execution_count": 4,
   "metadata": {
    "collapsed": true
   },
   "outputs": [],
   "source": [
    "def softmax(q_vector, beta=1.0):\n",
    "    assert beta >= 0.0\n",
    "    q_tilde = q_vector - np.max(q_vector)\n",
    "    factors = np.exp(beta * q_tilde)\n",
    "    return factors / np.sum(factors)"
   ]
  },
  {
   "cell_type": "code",
   "execution_count": 5,
   "metadata": {
    "collapsed": true
   },
   "outputs": [],
   "source": [
    "def select_a_with_softmax(q_vector, beta=1.0):\n",
    "    prob_a = softmax(q_vector, beta=beta)\n",
    "    cumsum_a = np.cumsum(prob_a)\n",
    "    return np.where(np.random.rand() < cumsum_a)[0][0]"
   ]
  },
  {
   "cell_type": "code",
   "execution_count": 6,
   "metadata": {
    "collapsed": true
   },
   "outputs": [],
   "source": [
    "nb_episode = 20000"
   ]
  },
  {
   "cell_type": "code",
   "execution_count": 7,
   "metadata": {
    "collapsed": false
   },
   "outputs": [],
   "source": [
    "nb_o = env.observation_space.n\n",
    "nb_a = env.action_space.n\n",
    "\n",
    "# 状態行動価値の推定関数を初期化\n",
    "q_value = np.zeros([nb_o, nb_a])\n",
    "# 楽観主義的な初期化（optimistic initialization）\n",
    "#q_value = 0.5 + 0.1 * np.random.randn(nb_o, nb_a) \n",
    "\n",
    "# 学習率 (learning rate)\n",
    "alpha = 0.1\n",
    "\n",
    "# 逆温度 (inverse temperature)\n",
    "beta  = 0.\n",
    "inc_beta = 250./nb_episode\n",
    "\n",
    "# 減衰率 (discount rate)\n",
    "gamma = 0.99\n",
    "\n",
    "returns = []"
   ]
  },
  {
   "cell_type": "code",
   "execution_count": 8,
   "metadata": {
    "collapsed": false,
    "scrolled": false
   },
   "outputs": [
    {
     "name": "stderr",
     "output_type": "stream",
     "text": [
      "[2017-01-20 18:33:05,451] Starting new video recorder writing to /Users/otsuka/git/pydata.okinawa/meetup021/3_openai_gym/frozenlake-v0-q-learning-softmax-01/openaigym.video.0.16986.video000000.json\n",
      "[2017-01-20 18:33:05,455] Starting new video recorder writing to /Users/otsuka/git/pydata.okinawa/meetup021/3_openai_gym/frozenlake-v0-q-learning-softmax-01/openaigym.video.0.16986.video000001.json\n",
      "[2017-01-20 18:33:05,462] Starting new video recorder writing to /Users/otsuka/git/pydata.okinawa/meetup021/3_openai_gym/frozenlake-v0-q-learning-softmax-01/openaigym.video.0.16986.video000008.json\n",
      "[2017-01-20 18:33:05,476] Starting new video recorder writing to /Users/otsuka/git/pydata.okinawa/meetup021/3_openai_gym/frozenlake-v0-q-learning-softmax-01/openaigym.video.0.16986.video000027.json\n",
      "[2017-01-20 18:33:05,496] Starting new video recorder writing to /Users/otsuka/git/pydata.okinawa/meetup021/3_openai_gym/frozenlake-v0-q-learning-softmax-01/openaigym.video.0.16986.video000064.json\n",
      "[2017-01-20 18:33:05,521] Starting new video recorder writing to /Users/otsuka/git/pydata.okinawa/meetup021/3_openai_gym/frozenlake-v0-q-learning-softmax-01/openaigym.video.0.16986.video000125.json\n",
      "[2017-01-20 18:33:05,558] Starting new video recorder writing to /Users/otsuka/git/pydata.okinawa/meetup021/3_openai_gym/frozenlake-v0-q-learning-softmax-01/openaigym.video.0.16986.video000216.json\n",
      "[2017-01-20 18:33:05,600] Starting new video recorder writing to /Users/otsuka/git/pydata.okinawa/meetup021/3_openai_gym/frozenlake-v0-q-learning-softmax-01/openaigym.video.0.16986.video000343.json\n",
      "[2017-01-20 18:33:05,657] Starting new video recorder writing to /Users/otsuka/git/pydata.okinawa/meetup021/3_openai_gym/frozenlake-v0-q-learning-softmax-01/openaigym.video.0.16986.video000512.json\n",
      "[2017-01-20 18:33:05,728] Starting new video recorder writing to /Users/otsuka/git/pydata.okinawa/meetup021/3_openai_gym/frozenlake-v0-q-learning-softmax-01/openaigym.video.0.16986.video000729.json\n",
      "[2017-01-20 18:33:05,824] Starting new video recorder writing to /Users/otsuka/git/pydata.okinawa/meetup021/3_openai_gym/frozenlake-v0-q-learning-softmax-01/openaigym.video.0.16986.video001000.json\n",
      "[2017-01-20 18:33:06,386] Starting new video recorder writing to /Users/otsuka/git/pydata.okinawa/meetup021/3_openai_gym/frozenlake-v0-q-learning-softmax-01/openaigym.video.0.16986.video002000.json\n",
      "[2017-01-20 18:33:07,675] Starting new video recorder writing to /Users/otsuka/git/pydata.okinawa/meetup021/3_openai_gym/frozenlake-v0-q-learning-softmax-01/openaigym.video.0.16986.video003000.json\n",
      "[2017-01-20 18:33:09,068] Starting new video recorder writing to /Users/otsuka/git/pydata.okinawa/meetup021/3_openai_gym/frozenlake-v0-q-learning-softmax-01/openaigym.video.0.16986.video004000.json\n",
      "[2017-01-20 18:33:10,584] Starting new video recorder writing to /Users/otsuka/git/pydata.okinawa/meetup021/3_openai_gym/frozenlake-v0-q-learning-softmax-01/openaigym.video.0.16986.video005000.json\n",
      "[2017-01-20 18:33:12,057] Starting new video recorder writing to /Users/otsuka/git/pydata.okinawa/meetup021/3_openai_gym/frozenlake-v0-q-learning-softmax-01/openaigym.video.0.16986.video006000.json\n",
      "[2017-01-20 18:33:13,491] Starting new video recorder writing to /Users/otsuka/git/pydata.okinawa/meetup021/3_openai_gym/frozenlake-v0-q-learning-softmax-01/openaigym.video.0.16986.video007000.json\n",
      "[2017-01-20 18:33:14,952] Starting new video recorder writing to /Users/otsuka/git/pydata.okinawa/meetup021/3_openai_gym/frozenlake-v0-q-learning-softmax-01/openaigym.video.0.16986.video008000.json\n",
      "[2017-01-20 18:33:16,425] Starting new video recorder writing to /Users/otsuka/git/pydata.okinawa/meetup021/3_openai_gym/frozenlake-v0-q-learning-softmax-01/openaigym.video.0.16986.video009000.json\n",
      "[2017-01-20 18:33:17,702] Starting new video recorder writing to /Users/otsuka/git/pydata.okinawa/meetup021/3_openai_gym/frozenlake-v0-q-learning-softmax-01/openaigym.video.0.16986.video010000.json\n",
      "[2017-01-20 18:33:19,157] Starting new video recorder writing to /Users/otsuka/git/pydata.okinawa/meetup021/3_openai_gym/frozenlake-v0-q-learning-softmax-01/openaigym.video.0.16986.video011000.json\n",
      "[2017-01-20 18:33:20,660] Starting new video recorder writing to /Users/otsuka/git/pydata.okinawa/meetup021/3_openai_gym/frozenlake-v0-q-learning-softmax-01/openaigym.video.0.16986.video012000.json\n",
      "[2017-01-20 18:33:22,141] Starting new video recorder writing to /Users/otsuka/git/pydata.okinawa/meetup021/3_openai_gym/frozenlake-v0-q-learning-softmax-01/openaigym.video.0.16986.video013000.json\n",
      "[2017-01-20 18:33:23,555] Starting new video recorder writing to /Users/otsuka/git/pydata.okinawa/meetup021/3_openai_gym/frozenlake-v0-q-learning-softmax-01/openaigym.video.0.16986.video014000.json\n",
      "[2017-01-20 18:33:25,005] Starting new video recorder writing to /Users/otsuka/git/pydata.okinawa/meetup021/3_openai_gym/frozenlake-v0-q-learning-softmax-01/openaigym.video.0.16986.video015000.json\n",
      "[2017-01-20 18:33:26,474] Starting new video recorder writing to /Users/otsuka/git/pydata.okinawa/meetup021/3_openai_gym/frozenlake-v0-q-learning-softmax-01/openaigym.video.0.16986.video016000.json\n",
      "[2017-01-20 18:33:27,889] Starting new video recorder writing to /Users/otsuka/git/pydata.okinawa/meetup021/3_openai_gym/frozenlake-v0-q-learning-softmax-01/openaigym.video.0.16986.video017000.json\n",
      "[2017-01-20 18:33:29,326] Starting new video recorder writing to /Users/otsuka/git/pydata.okinawa/meetup021/3_openai_gym/frozenlake-v0-q-learning-softmax-01/openaigym.video.0.16986.video018000.json\n",
      "[2017-01-20 18:33:30,778] Starting new video recorder writing to /Users/otsuka/git/pydata.okinawa/meetup021/3_openai_gym/frozenlake-v0-q-learning-softmax-01/openaigym.video.0.16986.video019000.json\n"
     ]
    },
    {
     "name": "stdout",
     "output_type": "stream",
     "text": [
      "0.5619\n"
     ]
    }
   ],
   "source": [
    "for episode in xrange(nb_episode):\n",
    "\n",
    "    # 報酬の初期化\n",
    "    cum_r = 0\n",
    "    \n",
    "    # 環境を初期化し、最初の観測を得る\n",
    "    curr_o = env.reset()\n",
    "\n",
    "    # ソフトマックスによる行動選択\n",
    "    curr_a = select_a_with_softmax(q_value[curr_o, :], beta)\n",
    "        \n",
    "    while True:\n",
    "        \n",
    "        # 選択された行動の実行\n",
    "        next_o, reward, done, info = env.step(curr_a)\n",
    "        \n",
    "        # ソフトマックスによる行動選択\n",
    "        next_a = select_a_with_softmax(q_value[next_o, :], beta)\n",
    "        \n",
    "        # Q学習 (Q learning)\n",
    "        if done:\n",
    "            q_target = reward\n",
    "        else:\n",
    "            q_target = reward + gamma * np.max(q_value[next_o, :])\n",
    "                \n",
    "        delta = q_target - q_value[curr_o, curr_a]\n",
    "        q_value[curr_o, curr_a] += alpha * delta\n",
    "        \n",
    "        # 累積報酬\n",
    "        cum_r = reward + gamma * cum_r\n",
    "        \n",
    "        # 次のステップの準備\n",
    "        curr_o = next_o\n",
    "        curr_a = next_a\n",
    "        \n",
    "        if done:\n",
    "            break\n",
    "            \n",
    "    # 累積報酬を記録\n",
    "    returns.append(cum_r)\n",
    "    \n",
    "    # 逆温度を上げる\n",
    "    beta += inc_beta\n",
    "\n",
    "print(np.mean(returns))"
   ]
  },
  {
   "cell_type": "code",
   "execution_count": 9,
   "metadata": {
    "collapsed": false,
    "scrolled": false
   },
   "outputs": [
    {
     "data": {
      "text/plain": [
       "<matplotlib.text.Text at 0x10edcd450>"
      ]
     },
     "execution_count": 9,
     "metadata": {},
     "output_type": "execute_result"
    },
    {
     "data": {
      "image/png": "[encoded data removed]",
      "text/plain": [
       "<matplotlib.figure.Figure at 0x1061ca510>"
      ]
     },
     "metadata": {},
     "output_type": "display_data"
    }
   ],
   "source": [
    "# 累積報酬の移動平均をプロット\n",
    "window = 100\n",
    "plt.plot(np.convolve(np.array(returns), np.ones((window,))/window, mode='valid'))\n",
    "plt.xlabel('Episode')\n",
    "plt.ylabel('Cumulative reward')"
   ]
  },
  {
   "cell_type": "code",
   "execution_count": 10,
   "metadata": {
    "collapsed": false,
    "scrolled": true
   },
   "outputs": [
    {
     "data": {
      "text/plain": [
       "array([[ 0.49536753,  0.28306389,  0.3253862 ,  0.30603388],\n",
       "       [ 0.23736947,  0.2126169 ,  0.07832539,  0.44218331],\n",
       "       [ 0.26584154,  0.25192499,  0.24738477,  0.39422492],\n",
       "       [ 0.16508208,  0.1490744 ,  0.08265173,  0.36503404],\n",
       "       [ 0.50288376,  0.13070243,  0.28335748,  0.14976063],\n",
       "       [ 0.        ,  0.        ,  0.        ,  0.        ],\n",
       "       [ 0.09749168,  0.10552296,  0.31567034,  0.03181583],\n",
       "       [ 0.        ,  0.        ,  0.        ,  0.        ],\n",
       "       [ 0.02864481,  0.15178195,  0.25645149,  0.53073308],\n",
       "       [ 0.14234365,  0.57345515,  0.24320789,  0.01056084],\n",
       "       [ 0.52685378,  0.27342264,  0.18821465,  0.04817685],\n",
       "       [ 0.        ,  0.        ,  0.        ,  0.        ],\n",
       "       [ 0.        ,  0.        ,  0.        ,  0.        ],\n",
       "       [ 0.02334904,  0.27103502,  0.69610385,  0.20120943],\n",
       "       [ 0.01180896,  0.1278077 ,  0.80324415,  0.35705058],\n",
       "       [ 0.        ,  0.        ,  0.        ,  0.        ]])"
      ]
     },
     "execution_count": 10,
     "metadata": {},
     "output_type": "execute_result"
    }
   ],
   "source": [
    "q_value"
   ]
  },
  {
   "cell_type": "code",
   "execution_count": 11,
   "metadata": {
    "collapsed": false,
    "scrolled": true
   },
   "outputs": [
    {
     "data": {
      "text/plain": [
       "<matplotlib.image.AxesImage at 0x111e4aa10>"
      ]
     },
     "execution_count": 11,
     "metadata": {},
     "output_type": "execute_result"
    },
    {
     "data": {
      "image/png": "[encoded data removed]",
      "text/plain": [
       "<matplotlib.figure.Figure at 0x11191dd90>"
      ]
     },
     "metadata": {},
     "output_type": "display_data"
    }
   ],
   "source": [
    "#q_table = np.array([agent.q[ii] for ii in range(env.observation_space.n)])\n",
    "\n",
    "plt.figure(figsize=(5, 5))\n",
    "#plt.imshow(q_value, interpolation='nearest', aspect='auto', cmap='bwr_r')\n",
    "plt.imshow(q_value, interpolation='nearest', aspect='auto', cmap='gray')\n",
    "#plt.clim(0.0, 1.0)"
   ]
  },
  {
   "cell_type": "code",
   "execution_count": 12,
   "metadata": {
    "collapsed": false,
    "scrolled": true
   },
   "outputs": [
    {
     "data": {
      "text/plain": [
       "<matplotlib.legend.Legend at 0x111fe53d0>"
      ]
     },
     "execution_count": 12,
     "metadata": {},
     "output_type": "execute_result"
    },
    {
     "data": {
      "image/png": "[encoded data removed]",
      "text/plain": [
       "<matplotlib.figure.Figure at 0x11181d910>"
      ]
     },
     "metadata": {},
     "output_type": "display_data"
    }
   ],
   "source": [
    "plt.figure(figsize=(10, 5))\n",
    "#plt.imshow(q_table, interpolation='nearest', aspect='auto', cmap='bwr_r')\n",
    "#plt.clim(-1.0, 1.0)\n",
    "#plt.clim(0.0, 1.0)\n",
    "plt.plot(q_value, 'o-');\n",
    "plt.legend([0, 1, 2, 3])"
   ]
  },
  {
   "cell_type": "markdown",
   "metadata": {},
   "source": [
    "- 00, 01, 02, 03\n",
    "- 04, 05, 06, 07\n",
    "- 08, 09, 10, 11\n",
    "- 12, 13, 14, 15"
   ]
  },
  {
   "cell_type": "code",
   "execution_count": 13,
   "metadata": {
    "collapsed": false
   },
   "outputs": [
    {
     "name": "stdout",
     "output_type": "stream",
     "text": [
      "SFFF\n",
      "FHFH\n",
      "FFFH\n",
      "HFF\u001b[41mG\u001b[0m\n",
      "  (Right)\n"
     ]
    },
    {
     "data": {
      "text/plain": [
       "<ipykernel.iostream.OutStream at 0x105fb4510>"
      ]
     },
     "execution_count": 13,
     "metadata": {},
     "output_type": "execute_result"
    }
   ],
   "source": [
    "env.render()"
   ]
  },
  {
   "cell_type": "code",
   "execution_count": 14,
   "metadata": {
    "collapsed": false,
    "scrolled": true
   },
   "outputs": [
    {
     "name": "stderr",
     "output_type": "stream",
     "text": [
      "[2017-01-20 18:33:33,248] Finished writing results. You can upload them to the scoreboard via gym.upload('/Users/otsuka/git/pydata.okinawa/meetup021/3_openai_gym/frozenlake-v0-q-learning-softmax-01')\n"
     ]
    }
   ],
   "source": [
    "env.close()"
   ]
  },
  {
   "cell_type": "code",
   "execution_count": 15,
   "metadata": {
    "collapsed": false
   },
   "outputs": [],
   "source": [
    "#api_key = '********'\n",
    "#gym.upload('./frozenlake-v0-q-learning-softmax-01/', api_key=api_key)"
   ]
  },
  {
   "cell_type": "code",
   "execution_count": null,
   "metadata": {
    "collapsed": true
   },
   "outputs": [],
   "source": []
  }
 ],
 "metadata": {
  "kernelspec": {
   "display_name": "Python [conda root]",
   "language": "python",
   "name": "conda-root-py"
  },
  "language_info": {
   "codemirror_mode": {
    "name": "ipython",
    "version": 2
   },
   "file_extension": ".py",
   "mimetype": "text/x-python",
   "name": "python",
   "nbconvert_exporter": "python",
   "pygments_lexer": "ipython2",
   "version": "2.7.11"
  }
 },
 "nbformat": 4,
 "nbformat_minor": 2
}
