{
 "cells": [
  {
   "cell_type": "markdown",
   "metadata": {},
   "source": [
    "# OpenAI Gym 入門\n",
    "\n",
    "- [OpenAI Gym 公式ホームページ](https://gym.openai.com/)\n",
    "- [OpenAI Gym 公式ドキュメント](https://gym.openai.com/docs)　← このノートブックはこの公式ドキュメントの日本語訳＋α\n",
    "- [OpenAI Gym GitHub](https://github.com/openai/gym)\n",
    "- [OpenAI Gym で提供されている全環境](https://gym.openai.com/envs)\n",
    "- [OpenAI Gym 公開についての公式ブログ](https://openai.com/blog/openai-gym-beta/) 2016/04/27\n",
    "- [OpenAI Universe](https://universe.openai.com/)"
   ]
  },
  {
   "cell_type": "markdown",
   "metadata": {},
   "source": [
    "### OpenAI Gymとは？\n",
    "\n",
    "- OpenAI Gymは強化学習アルゴリズムを作ったり、比較したりするためのツール\n",
    "- エージェントはどんな構造でも良い\n",
    "- TensorFlowやTheanoで書いてもオッケー\n",
    "- 今はPythonのみだが、将来的には他の言語もサポートする予定"
   ]
  },
  {
   "cell_type": "markdown",
   "metadata": {},
   "source": [
    "### OpenAI Gymは２つの部分から成る\n",
    "\n",
    "1. **gym** というオープンソースライブラリ。強化学習における「環境」を提供する\n",
    "2. **OpenAI Gym** とういウェブサービス。APIを使い、自分の作ったエージェントの良さを他のユーザーと比較できる"
   ]
  },
  {
   "cell_type": "markdown",
   "metadata": {},
   "source": [
    "## 環境とのインタラクション\n",
    "\n",
    "### Step 1: 手動で行動選択（version 1）\n",
    "\n",
    "'CartPole-v0' という環境に対して、手動で選んだ行動を入れてみる。"
   ]
  },
  {
   "cell_type": "code",
   "execution_count": 2,
   "metadata": {
    "collapsed": true
   },
   "outputs": [],
   "source": [
    "# gym オープンソースライブラリの読み込み\n",
    "import gym"
   ]
  },
  {
   "cell_type": "code",
   "execution_count": 3,
   "metadata": {
    "collapsed": false
   },
   "outputs": [
    {
     "name": "stderr",
     "output_type": "stream",
     "text": [
      "[2017-01-18 23:15:36,839] Making new env: CartPole-v0\n"
     ]
    },
    {
     "data": {
      "text/plain": [
       "[0L]"
      ]
     },
     "execution_count": 3,
     "metadata": {},
     "output_type": "execute_result"
    }
   ],
   "source": [
    "# 環境を作る\n",
    "env = gym.make('CartPole-v0')    # 'CartPole-v0' は環境ID\n",
    "#env = gym.make('MountainCar-v0')    # 'MountainCar-v0'という別の環境\n",
    "#env = gym.make('MsPacman-v0')    # 'MsPacman-v0'という別の環境\n",
    "\n",
    "env.seed(42)"
   ]
  },
  {
   "cell_type": "code",
   "execution_count": 3,
   "metadata": {
    "collapsed": false,
    "scrolled": true
   },
   "outputs": [
    {
     "data": {
      "text/plain": [
       "array([-0.00808208, -0.02773516,  0.02830284, -0.03498637])"
      ]
     },
     "execution_count": 3,
     "metadata": {},
     "output_type": "execute_result"
    }
   ],
   "source": [
    "# 環境の初期化（最初の観測が得られる）\n",
    "env.reset()"
   ]
  },
  {
   "cell_type": "code",
   "execution_count": 4,
   "metadata": {
    "collapsed": true
   },
   "outputs": [],
   "source": [
    "# 描画\n",
    "env.render()"
   ]
  },
  {
   "cell_type": "code",
   "execution_count": 5,
   "metadata": {
    "collapsed": false
   },
   "outputs": [],
   "source": [
    "# 行動選択（手動）\n",
    "action = 0   # 0: Left, 1: Right\n",
    "\n",
    "# 環境に対して選択された行動を実行\n",
    "# printで囲む\n",
    "env.step(action)\n",
    "\n",
    "# 描画\n",
    "env.render()"
   ]
  },
  {
   "cell_type": "code",
   "execution_count": 6,
   "metadata": {
    "collapsed": true
   },
   "outputs": [],
   "source": [
    "# 画面を閉じる\n",
    "env.render(close=True) "
   ]
  },
  {
   "cell_type": "markdown",
   "metadata": {},
   "source": [
    "### Step 2: ランダムな行動選択（ランダム方策）\n",
    "\n",
    "'CartPole-v0' という環境に対して、ランダムな行動を取ってみる（1000ステップ）。"
   ]
  },
  {
   "cell_type": "code",
   "execution_count": 7,
   "metadata": {
    "collapsed": true
   },
   "outputs": [],
   "source": [
    "import time"
   ]
  },
  {
   "cell_type": "code",
   "execution_count": 8,
   "metadata": {
    "collapsed": true
   },
   "outputs": [],
   "source": [
    "# gym オープンソースライブラリの読み込み\n",
    "import gym"
   ]
  },
  {
   "cell_type": "code",
   "execution_count": 9,
   "metadata": {
    "collapsed": false
   },
   "outputs": [
    {
     "name": "stderr",
     "output_type": "stream",
     "text": [
      "[2017-01-18 13:50:34,453] Making new env: CartPole-v0\n"
     ]
    }
   ],
   "source": [
    "# 環境を作る\n",
    "env = gym.make('CartPole-v0')    # 'CartPole-v0' は環境ID\n",
    "#env = gym.make('MountainCar-v0')    # 'MountainCar-v0'という別の環境\n",
    "#env = gym.make('MsPacman-v0')    # 'MsPacman-v0'という別の環境"
   ]
  },
  {
   "cell_type": "code",
   "execution_count": 10,
   "metadata": {
    "collapsed": false
   },
   "outputs": [
    {
     "data": {
      "text/plain": [
       "0"
      ]
     },
     "execution_count": 10,
     "metadata": {},
     "output_type": "execute_result"
    }
   ],
   "source": [
    "# ランダムな行動選択\n",
    "env.action_space.sample()"
   ]
  },
  {
   "cell_type": "code",
   "execution_count": 11,
   "metadata": {
    "collapsed": false
   },
   "outputs": [
    {
     "data": {
      "text/plain": [
       "Discrete(2)"
      ]
     },
     "execution_count": 11,
     "metadata": {},
     "output_type": "execute_result"
    }
   ],
   "source": [
    "# 行動空間（エージェントが選択可能な行動が定義されている空間）\n",
    "env.action_space"
   ]
  },
  {
   "cell_type": "code",
   "execution_count": 12,
   "metadata": {
    "collapsed": false
   },
   "outputs": [
    {
     "data": {
      "text/plain": [
       "array([-0.04154346, -0.00285351, -0.03092677,  0.0460129 ])"
      ]
     },
     "execution_count": 12,
     "metadata": {},
     "output_type": "execute_result"
    }
   ],
   "source": [
    "# 環境の初期化（最初の観測が得られる）\n",
    "env.reset()"
   ]
  },
  {
   "cell_type": "code",
   "execution_count": 13,
   "metadata": {
    "collapsed": false,
    "scrolled": true
   },
   "outputs": [
    {
     "name": "stdout",
     "output_type": "stream",
     "text": [
      "1 (array([-0.04160053,  0.19269795, -0.03000651, -0.25626504]), 1.0, False, {})\n",
      "1 (array([-0.03774657,  0.38823518, -0.03513181, -0.55825944]), 1.0, False, {})\n",
      "0 (array([-0.02998187,  0.19362354, -0.046297  , -0.27684874]), 1.0, False, {})\n",
      "1 (array([-0.0261094 ,  0.38937437, -0.05183397, -0.58376682]), 1.0, False, {})\n",
      "1 (array([-0.01832191,  0.58518268, -0.06350931, -0.89231717]), 1.0, False, {})\n",
      "1 (array([-0.00661826,  0.78110596, -0.08135565, -1.20426879]), 1.0, False, {})\n",
      "1 (array([ 0.00900386,  0.97717979, -0.10544103, -1.52129894]), 1.0, False, {})\n",
      "1 (array([ 0.02854746,  1.17340607, -0.13586701, -1.84494592]), 1.0, False, {})\n",
      "1 (array([ 0.05201558,  1.36973929, -0.17276593, -2.17655384]), 1.0, False, {})\n",
      "1 (array([ 0.07941037,  1.56607088, -0.216297  , -2.51720794]), 1.0, True, {})\n"
     ]
    },
    {
     "name": "stderr",
     "output_type": "stream",
     "text": [
      "[2017-01-18 13:50:35,651] You are calling 'step()' even though this environment has already returned done = True. You should always call 'reset()' once you receive 'done = True' -- any further steps are undefined behavior.\n"
     ]
    },
    {
     "name": "stdout",
     "output_type": "stream",
     "text": [
      "0 (array([ 0.11073178,  1.37327814, -0.26664116, -2.2978539 ]), 0.0, True, {})\n",
      "0 (array([ 0.13819735,  1.18141885, -0.31259824, -2.09770191]), 0.0, True, {})\n",
      "1 (array([ 0.16182572,  1.37805651, -0.35455228, -2.46877854]), 0.0, True, {})\n",
      "0 (array([ 0.18938685,  1.18722244, -0.40392785, -2.30239981]), 0.0, True, {})\n",
      "0 (array([ 0.2131313 ,  0.99739649, -0.44997585, -2.15612718]), 0.0, True, {})\n",
      "0 (array([ 0.23307923,  0.80853294, -0.49309839, -2.02890523]), 0.0, True, {})\n",
      "0 (array([ 0.24924989,  0.62057153, -0.53367649, -1.91971783]), 0.0, True, {})\n",
      "0 (array([ 0.26166132,  0.43344484, -0.57207085, -1.82761821]), 0.0, True, {})\n",
      "1 (array([ 0.27033022,  0.6291339 , -0.60862321, -2.23357993]), 0.0, True, {})\n",
      "0 (array([ 0.2829129 ,  0.44242225, -0.65329481, -2.1718936 ]), 0.0, True, {})\n",
      "1 (array([ 0.29176134,  0.6364248 , -0.69673268, -2.5816705 ]), 0.0, True, {})\n",
      "1 (array([ 0.30448984,  0.82864053, -0.74836609, -2.99146255]), 0.0, True, {})\n",
      "0 (array([ 0.32106265,  0.6410831 , -0.80819535, -2.98534901]), 0.0, True, {})\n",
      "0 (array([ 0.33388431,  0.45399431, -0.86790233, -3.00406063]), 0.0, True, {})\n",
      "1 (array([ 0.3429642 ,  0.64148597, -0.92798354, -3.41017508]), 0.0, True, {})\n",
      "1 (array([ 0.35579392,  0.82576909, -0.99618704, -3.811199  ]), 0.0, True, {})\n",
      "1 (array([ 0.3723093 ,  1.00623466, -1.07241102, -4.2051104 ]), 0.0, True, {})\n",
      "1 (array([ 0.39243399,  1.18228649, -1.15651323, -4.58957817]), 0.0, True, {})\n",
      "0 (array([ 0.41607972,  0.98569126, -1.24830479, -4.74000295]), 0.0, True, {})\n",
      "1 (array([ 0.43579355,  1.15330217, -1.34310485, -5.09852842]), 0.0, True, {})\n",
      "0 (array([ 0.45885959,  0.95069694, -1.44507542, -5.31633944]), 0.0, True, {})\n",
      "1 (array([ 0.47787353,  1.10885584, -1.55140221, -5.63776636]), 0.0, True, {})\n",
      "0 (array([ 0.50005065,  0.89840189, -1.66415753, -5.92558911]), 0.0, True, {})\n",
      "1 (array([ 0.51801868,  1.04728635, -1.78266932, -6.19748896]), 0.0, True, {})\n",
      "1 (array([ 0.53896441,  1.19265907, -1.9066191 , -6.43905881]), 0.0, True, {})\n",
      "0 (array([ 0.56281759,  0.9694434 , -2.03540027, -6.8269756 ]), 0.0, True, {})\n",
      "1 (array([ 0.58220646,  1.10995261, -2.17193978, -6.99537465]), 0.0, True, {})\n",
      "1 (array([ 0.60440551,  1.25194689, -2.31184728, -7.11736842]), 0.0, True, {})\n",
      "0 (array([ 0.62944445,  1.02236464, -2.45419465, -7.56674365]), 0.0, True, {})\n",
      "0 (array([ 0.64989174,  0.79156453, -2.60552952, -8.02087295]), 0.0, True, {})\n",
      "1 (array([ 0.66572303,  0.94539497, -2.76594698, -7.97265695]), 0.0, True, {})\n",
      "0 (array([ 0.68463093,  0.72480004, -2.92540012, -8.38833727]), 0.0, True, {})\n",
      "1 (array([ 0.69912693,  0.90159607, -3.09316686, -8.19238323]), 0.0, True, {})\n",
      "1 (array([ 0.71715885,  1.09282223, -3.25701453, -7.92011187]), 0.0, True, {})\n",
      "1 (array([ 0.7390153 ,  1.29643517, -3.41541676, -7.58286589]), 0.0, True, {})\n",
      "1 (array([ 0.764944  ,  1.50932131, -3.56707408, -7.19593164]), 0.0, True, {})\n",
      "1 (array([ 0.79513043,  1.72796143, -3.71099272, -6.77586112]), 0.0, True, {})\n",
      "0 (array([ 0.82968966,  1.56692514, -3.84650994, -6.8208009 ]), 0.0, True, {})\n",
      "1 (array([ 0.86102816,  1.79163219, -3.98292596, -6.37357017]), 0.0, True, {})\n",
      "0 (array([ 0.8968608 ,  1.63937504, -4.11039736, -6.30659575]), 0.0, True, {})\n",
      "1 (array([ 0.9296483 ,  1.86210161, -4.23652927, -5.87508807]), 0.0, True, {})\n",
      "1 (array([ 0.96689034,  2.08037733, -4.35403104, -5.46376262]), 0.0, True, {})\n",
      "1 (array([ 1.00849788,  2.29378967, -4.46330629, -5.07616186]), 0.0, True, {})\n",
      "1 (array([ 1.05437368,  2.50236675, -4.56482953, -4.71410892]), 0.0, True, {})\n",
      "0 (array([ 1.10442101,  2.34223902, -4.6591117 , -4.45861793]), 0.0, True, {})\n",
      "1 (array([ 1.15126579,  2.54285305, -4.74828406, -4.14901041]), 0.0, True, {})\n",
      "0 (array([ 1.20212285,  2.37618022, -4.83126427, -3.84622762]), 0.0, True, {})\n",
      "0 (array([ 1.24964646,  2.20597884, -4.90818882, -3.5240248 ]), 0.0, True, {})\n",
      "1 (array([ 1.29376603,  2.39681332, -4.97866932, -3.29133305]), 0.0, True, {})\n",
      "1 (array([ 1.3417023 ,  2.58563132, -5.04449598, -3.08222435]), 0.0, True, {})\n",
      "0 (array([ 1.39341493,  2.40656089, -5.10614047, -2.71671425]), 0.0, True, {})\n",
      "1 (array([ 1.44154615,  2.59169852, -5.16047475, -2.55175583]), 0.0, True, {})\n",
      "0 (array([ 1.49338012,  2.40764187, -5.21150987, -2.16716872]), 0.0, True, {})\n",
      "1 (array([ 1.54153295,  2.59044826, -5.25485324, -2.04028712]), 0.0, True, {})\n",
      "0 (array([ 1.59334192,  2.40254822, -5.29565898, -1.64298947]), 0.0, True, {})\n",
      "0 (array([ 1.64139288,  2.21270888, -5.32851877, -1.24076482]), 0.0, True, {})\n",
      "0 (array([ 1.68564706,  2.0213738 , -5.35333407, -0.83497188]), 0.0, True, {})\n",
      "0 (array([ 1.72607454,  1.82896821, -5.37003351, -0.42674746]), 0.0, True, {})\n",
      "0 (array([ 1.7626539 ,  1.63589771, -5.37856846, -0.01704302]), 0.0, True, {})\n",
      "1 (array([ 1.79537185,  1.81591071, -5.37890932,  0.04722787]), 0.0, True, {})\n",
      "1 (array([ 1.83169007,  1.99592821, -5.37796476,  0.11136031]), 0.0, True, {})\n",
      "0 (array([ 1.87160863,  1.8026017 , -5.37573755,  0.52168155]), 0.0, True, {})\n",
      "0 (array([ 1.90766067,  1.60950278, -5.36530392,  0.93168789]), 0.0, True, {})\n",
      "0 (array([ 1.93985072,  1.41701926, -5.34667017,  1.34061875]), 0.0, True, {})\n",
      "1 (array([ 1.96819111,  1.59811055, -5.31985779,  1.41646344]), 0.0, True, {})\n",
      "1 (array([ 2.00015332,  1.77918556, -5.29152852,  1.50283153]), 0.0, True, {})\n",
      "0 (array([ 2.03573703,  1.58908191, -5.26147189,  1.90495683]), 0.0, True, {})\n",
      "1 (array([ 2.06751867,  1.77114604, -5.22337275,  2.01320955]), 0.0, True, {})\n",
      "0 (array([ 2.10294159,  1.58378616, -5.18310856,  2.40709359]), 0.0, True, {})\n",
      "0 (array([ 2.13461731,  1.39866468, -5.13496669,  2.79505537]), 0.0, True, {})\n",
      "1 (array([ 2.16259061,  1.58408813, -5.07906558,  2.94912682]), 0.0, True, {})\n",
      "0 (array([ 2.19427237,  1.40359669, -5.02008305,  3.32064619]), 0.0, True, {})\n",
      "1 (array([ 2.2223443 ,  1.59229119, -4.95367012,  3.51511579]), 0.0, True, {})\n",
      "1 (array([ 2.25419013,  1.78265712, -4.88336781,  3.73236838]), 0.0, True, {})\n",
      "1 (array([ 2.28984327,  1.97509402, -4.80872044,  3.97296764]), 0.0, True, {})\n",
      "1 (array([ 2.32934515,  2.17003876, -4.72926109,  4.23747915]), 0.0, True, {})\n",
      "1 (array([ 2.37274592,  2.36795688, -4.64451151,  4.5264286 ]), 0.0, True, {})\n",
      "1 (array([ 2.42010506,  2.56932559, -4.55398293,  4.84023844]), 0.0, True, {})\n",
      "0 (array([ 2.47149157,  2.41035079, -4.45717816,  5.09294147]), 0.0, True, {})\n",
      "1 (array([ 2.51969859,  2.61915695, -4.35531934,  5.45648832]), 0.0, True, {})\n",
      "1 (array([ 2.57208173,  2.83248791, -4.24618957,  5.84379272]), 0.0, True, {})\n",
      "0 (array([ 2.62873149,  2.68169052, -4.12931371,  6.00474405]), 0.0, True, {})\n",
      "0 (array([ 2.6823653 ,  2.53024736, -4.00921883,  6.12509195]), 0.0, True, {})\n",
      "1 (array([ 2.73297024,  2.75096585, -3.88671699,  6.56344181]), 0.0, True, {})\n",
      "0 (array([ 2.78798956,  2.59667952, -3.75544816,  6.59269088]), 0.0, True, {})\n",
      "0 (array([ 2.83992315,  2.43662172, -3.62359434,  6.5657869 ]), 0.0, True, {})\n",
      "1 (array([ 2.88865559,  2.65371708, -3.4922786 ,  6.99061383]), 0.0, True, {})\n",
      "1 (array([ 2.94172993,  2.8679946 , -3.35246633,  7.39346922]), 0.0, True, {})\n",
      "0 (array([ 2.99908982,  2.68754926, -3.20459694,  7.19033533]), 0.0, True, {})\n",
      "1 (array([ 3.0528408 ,  2.88669046, -3.06079024,  7.50696546]), 0.0, True, {})\n"
     ]
    }
   ],
   "source": [
    "for _ in range(100):\n",
    "    time.sleep(0.1)    # 描画を遅くするために0.1秒スリープ\n",
    "    env.render()    # 描画\n",
    "    action = env.action_space.sample()    # ランダムな行動選択\n",
    "    print(action), # 選択された行動をプリント\n",
    "    print(env.step(action))    # 選択行動を実行"
   ]
  },
  {
   "cell_type": "code",
   "execution_count": 14,
   "metadata": {
    "collapsed": true
   },
   "outputs": [],
   "source": [
    "env.render(close=True) # 画面を閉じる"
   ]
  },
  {
   "cell_type": "markdown",
   "metadata": {},
   "source": [
    "### Step 3: 手動で行動選択（version 2）\n",
    "\n",
    "\n",
    "- https://github.com/openai/gym/blob/master/examples/agents/keyboard_agent.py\n",
    "\n",
    "注： line36: `env.render()`の前に`env.reset()`を入れると、ほとんどの環境で使用可能。"
   ]
  },
  {
   "cell_type": "code",
   "execution_count": 15,
   "metadata": {
    "collapsed": false
   },
   "outputs": [],
   "source": [
    "#!python keyboard_agent.py CartPole-v1\n",
    "#!python keyboard_agent.py LunarLander-v2\n",
    "#!python keyboard_agent.py MountainCar-v0\n",
    "#!python keyboard_agent.py SpaceInvaders-v0\n",
    "#!python keyboard_agent.py Breakout-v0\n",
    "#!python keyboard_agent.py Acrobot-v1"
   ]
  },
  {
   "cell_type": "markdown",
   "metadata": {},
   "source": [
    "## 観測\n",
    "\n",
    "- ランダムな行動より上手くやりたければ、それぞれの行動が環境にどんな影響を与えるのか知りたいところ。\n",
    "- 行動が環境にどんな影響を与えたのかは、環境の`step`関数が教えてくれる。\n",
    "- step関数は4つの値を返す\n",
    "  1. observation (object) 観測\n",
    "  1. reward  (float) 報酬\n",
    "  1. done (boolean) エピソードの終了フラグ（Trueになった時がreset()を呼ぶタイミング）\n",
    "  1. info (dict) サブ情報"
   ]
  },
  {
   "cell_type": "markdown",
   "metadata": {},
   "source": [
    "done==Trueとなったときにエピソードを終了するのであれば、以下のようなコードになる。"
   ]
  },
  {
   "cell_type": "code",
   "execution_count": 16,
   "metadata": {
    "collapsed": true
   },
   "outputs": [],
   "source": [
    "import numpy as np\n",
    "np.set_printoptions(suppress=True)    # Scientific Notation (例 1.0e-0.5)を使わない"
   ]
  },
  {
   "cell_type": "code",
   "execution_count": 17,
   "metadata": {
    "collapsed": false,
    "scrolled": true
   },
   "outputs": [
    {
     "name": "stderr",
     "output_type": "stream",
     "text": [
      "[2017-01-18 13:50:44,875] Making new env: CartPole-v0\n"
     ]
    },
    {
     "name": "stdout",
     "output_type": "stream",
     "text": [
      "[ 0.02459009  0.02267429  0.00733899  0.03650138]\n",
      "[ 0.02504358 -0.17255213  0.00806902  0.33149077]\n",
      "[ 0.02159254 -0.367788    0.01469883  0.62670731]\n",
      "[ 0.01423678 -0.17287427  0.02723298  0.3386896 ]\n",
      "[ 0.01077929 -0.36837294  0.03400677  0.63983436]\n",
      "[ 0.00341183 -0.5639521   0.04680346  0.94302955]\n",
      "[-0.00786721 -0.75967236  0.06566405  1.25004364]\n",
      "[-0.02306066 -0.56545057  0.09066492  0.97863018]\n",
      "[-0.03436967 -0.37165342  0.11023752  0.7157474 ]\n",
      "[-0.04180274 -0.56811459  0.12455247  1.0409946 ]\n",
      "[-0.05316503 -0.3748474   0.14537236  0.78986339]\n",
      "[-0.06066198 -0.57163462  0.16116963  1.12451976]\n",
      "[-0.07209467 -0.76845932  0.18366003  1.46310961]\n",
      "Episode finished after 13 timesteps\n",
      "\n",
      "[ 0.01031005 -0.01777533 -0.02391008  0.0479302 ]\n",
      "[ 0.00995455 -0.21254641 -0.02295148  0.33297442]\n",
      "[ 0.00570362 -0.40733429 -0.01629199  0.61833215]\n",
      "[-0.00244307 -0.2119886  -0.00392535  0.32056287]\n",
      "[-0.00668284 -0.40705443  0.00248591  0.61200531]\n",
      "[-0.01482393 -0.21196731  0.01472602  0.32010639]\n",
      "[-0.01906327 -0.40729586  0.02112814  0.61739673]\n",
      "[-0.02720919 -0.21247533  0.03347608  0.33144237]\n",
      "[-0.0314587  -0.01784548  0.04010493  0.0495013 ]\n",
      "[-0.03181561  0.17667914  0.04109495 -0.23026332]\n",
      "[-0.02828202  0.37119049  0.03648969 -0.5097055 ]\n",
      "[-0.02085821  0.56577989  0.02629558 -0.79066971]\n",
      "[-0.00954262  0.37030692  0.01048218 -0.48983161]\n",
      "[-0.00213648  0.56527944  0.00068555 -0.77919262]\n",
      "[ 0.00916911  0.76039196 -0.0148983  -1.07165977]\n",
      "[ 0.02437695  0.95570768 -0.0363315  -1.36898078]\n",
      "[ 0.0434911   1.15126492 -0.06371111 -1.67280218]\n",
      "[ 0.0665164   0.95693804 -0.09716716 -1.40062164]\n",
      "[ 0.08565516  1.15312397 -0.12517959 -1.72203464]\n",
      "[ 0.10871764  1.34943736 -0.15962028 -2.05090733]\n",
      "[ 0.13570639  1.15627074 -0.20063843 -1.81157012]\n",
      "Episode finished after 21 timesteps\n",
      "\n",
      "[ 0.04223869  0.02704968  0.00565435 -0.0105924 ]\n",
      "[ 0.04277969  0.22209008  0.0054425  -0.30148596]\n",
      "[ 0.04722149  0.02689098 -0.00058722 -0.00709157]\n",
      "[ 0.04775931 -0.16822254 -0.00072905  0.28540603]\n",
      "[ 0.04439486 -0.36333409  0.00497907  0.57785893]\n",
      "[ 0.03712818 -0.55852547  0.01653625  0.87210621]\n",
      "[ 0.02595767 -0.36363226  0.03397837  0.5846678 ]\n",
      "[ 0.01868502 -0.16900234  0.04567173  0.30287915]\n",
      "[ 0.01530498 -0.36474444  0.05172931  0.60960895]\n",
      "[ 0.00801009 -0.56054989  0.06392149  0.91812588]\n",
      "[-0.00320091 -0.36634762  0.08228401  0.64619752]\n",
      "[-0.01052786 -0.56251387  0.09520796  0.96361555]\n",
      "[-0.02177814 -0.36879109  0.11448027  0.70229626]\n",
      "[-0.02915396 -0.1754263   0.1285262   0.44773137]\n",
      "[-0.03266249  0.01766559  0.13748082  0.19816526]\n",
      "[-0.03230918  0.21058074  0.14144413 -0.0481849 ]\n",
      "[-0.02809756  0.01374377  0.14048043  0.28556802]\n",
      "[-0.02782269 -0.18307299  0.14619179  0.61905039]\n",
      "[-0.03148415 -0.37990173  0.1585728   0.95397158]\n",
      "[-0.03908218 -0.18722735  0.17765223  0.71501132]\n",
      "[-0.04282673 -0.38430534  0.19195246  1.05793114]\n",
      "Episode finished after 21 timesteps\n",
      "\n",
      "[ 0.04541968 -0.04680079  0.04973245  0.0389427 ]\n",
      "[ 0.04448366  0.14757403  0.0505113  -0.23764372]\n",
      "[ 0.04743514  0.34193933  0.04575843 -0.51397582]\n",
      "[ 0.05427393  0.14620381  0.03547891 -0.20723157]\n",
      "[ 0.05719801  0.34080094  0.03133428 -0.48851496]\n",
      "[ 0.06401403  0.14525124  0.02156398 -0.18612363]\n",
      "[ 0.06691905 -0.0501725   0.01784151  0.11328314]\n",
      "[ 0.0659156   0.14468932  0.02010717 -0.17371794]\n",
      "[ 0.06880939 -0.05071455  0.01663281  0.12523972]\n",
      "[ 0.0677951   0.14416522  0.01913761 -0.16214967]\n",
      "[ 0.0706784   0.33900804  0.01589461 -0.44873428]\n",
      "[ 0.07745856  0.14366491  0.00691993 -0.15108377]\n",
      "[ 0.08033186 -0.05155544  0.00389825  0.14377419]\n",
      "[ 0.07930075  0.14351047  0.00677374 -0.14767637]\n",
      "[ 0.08217096 -0.05170783  0.00382021  0.14713582]\n",
      "[ 0.0811368   0.14335921  0.00676293 -0.14433946]\n",
      "[ 0.08400399 -0.05185894  0.00387614  0.15046935]\n",
      "[ 0.08296681  0.1432073   0.00688552 -0.14098822]\n",
      "[ 0.08583095 -0.05201259  0.00406576  0.153859  ]\n",
      "[ 0.0847907   0.14305091  0.00714294 -0.13753851]\n",
      "[ 0.08765172 -0.05217262  0.00439217  0.15738932]\n",
      "[ 0.08660827  0.14288618  0.00753996 -0.13390475]\n",
      "[ 0.08946599 -0.05234296  0.00486186  0.16114735]\n",
      "[ 0.08841913 -0.24753418  0.00808481  0.4553601 ]\n",
      "[ 0.08346845 -0.4427695   0.01719201  0.75058042]\n",
      "[ 0.07461306 -0.24788883  0.03220362  0.46335681]\n",
      "[ 0.06965528 -0.44345073  0.04147075  0.76601379]\n",
      "[ 0.06078627 -0.24892358  0.05679103  0.48666285]\n",
      "[ 0.0558078  -0.44479895  0.06652429  0.79668983]\n",
      "[ 0.04691182 -0.25064986  0.08245808  0.52565407]\n",
      "[ 0.04189882 -0.44682944  0.09297117  0.84313881]\n",
      "[ 0.03296223 -0.64308891  0.10983394  1.16355079]\n",
      "[ 0.02010045 -0.83945598  0.13310496  1.48855283]\n",
      "[ 0.00331133 -1.0359243   0.16287601  1.81966596]\n",
      "[-0.01740715 -1.23243911  0.19926933  2.15821096]\n",
      "Episode finished after 35 timesteps\n",
      "\n",
      "[-0.03284825  0.01277057  0.04278306  0.03211212]\n",
      "[-0.03259284 -0.18293796  0.04342531  0.33798068]\n",
      "[-0.0362516  -0.37865009  0.05018492  0.64403514]\n",
      "[-0.0438246  -0.18426215  0.06306562  0.36756851]\n",
      "[-0.04750985 -0.38022089  0.07041699  0.67945129]\n",
      "[-0.05511426 -0.5762467   0.08400602  0.99344679]\n",
      "[-0.0666392  -0.77238593  0.10387495  1.31128685]\n",
      "[-0.08208692 -0.57872141  0.13010069  1.05284025]\n",
      "[-0.09366134 -0.77530582  0.1511575   1.38336659]\n",
      "[-0.10916746 -0.9719553   0.17882483  1.71924863]\n",
      "Episode finished after 10 timesteps\n",
      "\n"
     ]
    }
   ],
   "source": [
    "all_obs = []\n",
    "\n",
    "import gym\n",
    "env = gym.make('CartPole-v0')\n",
    "for i_episode in range(5):    # 5エピソード回す\n",
    "    observation = env.reset()    # 環境を初期化し、最初の観測を得る。\n",
    "    all_obs.append(observation)    # 観測を記録\n",
    "    for t in range(100):    # 各エピソードの最大ステップ数は100\n",
    "        env.render()\n",
    "        print(observation)\n",
    "        action = env.action_space.sample()    # ランダム方策\n",
    "        observation, reward, done, info = env.step(action)    # 選択行動の実行\n",
    "        all_obs.append(observation)    # 観測を記録        \n",
    "        if done:\n",
    "            print(\"Episode finished after {} timesteps\\n\".format(t+1))\n",
    "            break"
   ]
  },
  {
   "cell_type": "code",
   "execution_count": 18,
   "metadata": {
    "collapsed": true
   },
   "outputs": [],
   "source": [
    "env.render(close=True)"
   ]
  },
  {
   "cell_type": "code",
   "execution_count": 19,
   "metadata": {
    "collapsed": true
   },
   "outputs": [],
   "source": [
    "%matplotlib inline\n",
    "import matplotlib.pyplot as plt"
   ]
  },
  {
   "cell_type": "code",
   "execution_count": 20,
   "metadata": {
    "collapsed": false,
    "scrolled": false
   },
   "outputs": [
    {
     "data": {
      "text/plain": [
       "<matplotlib.legend.Legend at 0x10ca8de90>"
      ]
     },
     "execution_count": 20,
     "metadata": {},
     "output_type": "execute_result"
    },
    {
     "data": {
      "image/png": "[encoded data removed]",
      "text/plain": [
       "<matplotlib.figure.Figure at 0x10cb4ead0>"
      ]
     },
     "metadata": {},
     "output_type": "display_data"
    }
   ],
   "source": [
    "fig, ax = plt.subplots(figsize=(10, 4))\n",
    "ax.plot(np.array(all_obs))\n",
    "ax.legend(['x', 'x_dot', 'theta', 'theta_dot'])"
   ]
  },
  {
   "cell_type": "markdown",
   "metadata": {},
   "source": [
    "## 空間"
   ]
  },
  {
   "cell_type": "markdown",
   "metadata": {},
   "source": [
    "可能な行動や観測は [`Space`](https://github.com/openai/gym/blob/master/gym/core.py)オブジェクトで記述されている。"
   ]
  },
  {
   "cell_type": "code",
   "execution_count": 21,
   "metadata": {
    "collapsed": false,
    "scrolled": true
   },
   "outputs": [
    {
     "name": "stderr",
     "output_type": "stream",
     "text": [
      "[2017-01-18 13:50:47,968] Making new env: CartPole-v0\n"
     ]
    }
   ],
   "source": [
    "import gym\n",
    "env = gym.make('CartPole-v0')    # 'CartPole-v0' は環境ID\n",
    "#env = gym.make('MountainCar-v0')    # 'MountainCar-v0'という別の環境\n",
    "#env = gym.make('MsPacman-v0')    # 'MsPacman-v0'という別の環境"
   ]
  },
  {
   "cell_type": "code",
   "execution_count": 22,
   "metadata": {
    "collapsed": false,
    "scrolled": false
   },
   "outputs": [
    {
     "name": "stdout",
     "output_type": "stream",
     "text": [
      "Discrete(2)\n"
     ]
    }
   ],
   "source": [
    "print(env.action_space)"
   ]
  },
  {
   "cell_type": "code",
   "execution_count": 23,
   "metadata": {
    "collapsed": false
   },
   "outputs": [
    {
     "name": "stdout",
     "output_type": "stream",
     "text": [
      "Box(4,)\n"
     ]
    }
   ],
   "source": [
    "print(env.observation_space)"
   ]
  },
  {
   "cell_type": "markdown",
   "metadata": {},
   "source": [
    "- [Descrete](https://github.com/openai/gym/blob/master/gym/spaces/discrete.py): 非負の整数 {0, 1, 2, ..., n-1}\n"
   ]
  },
  {
   "cell_type": "code",
   "execution_count": 24,
   "metadata": {
    "collapsed": false
   },
   "outputs": [
    {
     "data": {
      "text/plain": [
       "2"
      ]
     },
     "execution_count": 24,
     "metadata": {},
     "output_type": "execute_result"
    }
   ],
   "source": [
    "env.action_space.n"
   ]
  },
  {
   "cell_type": "markdown",
   "metadata": {},
   "source": [
    "- [Box](https://github.com/openai/gym/blob/master/gym/spaces/box.py): n次元のbox (次元ごとに上限と下限を持つn次元配列)"
   ]
  },
  {
   "cell_type": "code",
   "execution_count": 25,
   "metadata": {
    "collapsed": false,
    "scrolled": false
   },
   "outputs": [
    {
     "data": {
      "text/plain": [
       "array([  4.80000000e+00,   3.40282347e+38,   4.18879020e-01,\n",
       "         3.40282347e+38])"
      ]
     },
     "execution_count": 25,
     "metadata": {},
     "output_type": "execute_result"
    }
   ],
   "source": [
    "env.observation_space.high"
   ]
  },
  {
   "cell_type": "code",
   "execution_count": 26,
   "metadata": {
    "collapsed": false,
    "scrolled": false
   },
   "outputs": [
    {
     "data": {
      "text/plain": [
       "array([ -4.80000000e+00,  -3.40282347e+38,  -4.18879020e-01,\n",
       "        -3.40282347e+38])"
      ]
     },
     "execution_count": 26,
     "metadata": {},
     "output_type": "execute_result"
    }
   ],
   "source": [
    "env.observation_space.low"
   ]
  },
  {
   "cell_type": "markdown",
   "metadata": {},
   "source": [
    "スペースからサンプリングすることも、ある値がスペースに含まれているか調べることもできる。"
   ]
  },
  {
   "cell_type": "code",
   "execution_count": 27,
   "metadata": {
    "collapsed": true
   },
   "outputs": [],
   "source": [
    "from gym import spaces"
   ]
  },
  {
   "cell_type": "code",
   "execution_count": 28,
   "metadata": {
    "collapsed": true
   },
   "outputs": [],
   "source": [
    "space = spaces.Discrete(8) #  {0, 1, 2, ..., 7}"
   ]
  },
  {
   "cell_type": "code",
   "execution_count": 29,
   "metadata": {
    "collapsed": false,
    "scrolled": false
   },
   "outputs": [
    {
     "data": {
      "text/plain": [
       "2"
      ]
     },
     "execution_count": 29,
     "metadata": {},
     "output_type": "execute_result"
    }
   ],
   "source": [
    "# サンプリング\n",
    "x = space.sample()\n",
    "x"
   ]
  },
  {
   "cell_type": "code",
   "execution_count": 30,
   "metadata": {
    "collapsed": false
   },
   "outputs": [],
   "source": [
    "assert space.contains(x)"
   ]
  },
  {
   "cell_type": "code",
   "execution_count": 31,
   "metadata": {
    "collapsed": true
   },
   "outputs": [],
   "source": [
    "assert space.n == 8"
   ]
  },
  {
   "cell_type": "markdown",
   "metadata": {},
   "source": [
    "## 環境\n",
    "\n",
    "- `gym`の主な役割は、強化学習で使える多様な環境を提供すること。\n",
    "- OpenAI Gymが提供する環境　https://gym.openai.com/envs"
   ]
  },
  {
   "cell_type": "code",
   "execution_count": 32,
   "metadata": {
    "collapsed": false
   },
   "outputs": [],
   "source": [
    "from gym import envs"
   ]
  },
  {
   "cell_type": "code",
   "execution_count": 33,
   "metadata": {
    "collapsed": false,
    "scrolled": false
   },
   "outputs": [
    {
     "data": {
      "text/plain": [
       "[EnvSpec(PredictActionsCartpole-v0),\n",
       " EnvSpec(Asteroids-ramDeterministic-v0),\n",
       " EnvSpec(Asteroids-ramDeterministic-v3),\n",
       " EnvSpec(Gopher-ramDeterministic-v3),\n",
       " EnvSpec(Gopher-ramDeterministic-v0),\n",
       " EnvSpec(DoubleDunk-ramDeterministic-v3),\n",
       " EnvSpec(DoubleDunk-ramDeterministic-v0),\n",
       " EnvSpec(Tennis-ramNoFrameskip-v3),\n",
       " EnvSpec(RoadRunner-ramDeterministic-v0),\n",
       " EnvSpec(Robotank-ram-v3),\n",
       " EnvSpec(CartPole-v0),\n",
       " EnvSpec(CartPole-v1),\n",
       " EnvSpec(Gopher-ram-v3),\n",
       " EnvSpec(Gopher-ram-v0),\n",
       " EnvSpec(Pooyan-ram-v0),\n",
       " EnvSpec(Pooyan-ram-v3),\n",
       " EnvSpec(SpaceInvaders-ram-v3),\n",
       " EnvSpec(CarRacing-v0),\n",
       " EnvSpec(SpaceInvaders-ram-v0),\n",
       " EnvSpec(YarsRevenge-ramDeterministic-v0),\n",
       " EnvSpec(SpaceInvadersDeterministic-v0),\n",
       " EnvSpec(DoubleDunk-ram-v3),\n",
       " EnvSpec(DoubleDunk-ram-v0),\n",
       " EnvSpec(SpaceInvadersDeterministic-v3),\n",
       " EnvSpec(Centipede-v3),\n",
       " EnvSpec(Centipede-v0),\n",
       " EnvSpec(Pitfall-ramNoFrameskip-v3),\n",
       " EnvSpec(Pitfall-ramNoFrameskip-v0),\n",
       " EnvSpec(Frostbite-ramNoFrameskip-v0),\n",
       " EnvSpec(Phoenix-ram-v3),\n",
       " EnvSpec(AmidarNoFrameskip-v3),\n",
       " EnvSpec(SkiingNoFrameskip-v0),\n",
       " EnvSpec(SkiingNoFrameskip-v3),\n",
       " EnvSpec(HotterColder-v0),\n",
       " EnvSpec(RoadRunner-ramDeterministic-v3),\n",
       " EnvSpec(Phoenix-ram-v0),\n",
       " EnvSpec(Tennis-ramNoFrameskip-v0),\n",
       " EnvSpec(Berzerk-ramNoFrameskip-v3),\n",
       " EnvSpec(Berzerk-ramNoFrameskip-v0),\n",
       " EnvSpec(AirRaidDeterministic-v3),\n",
       " EnvSpec(AirRaidDeterministic-v0),\n",
       " EnvSpec(ChopperCommandDeterministic-v3),\n",
       " EnvSpec(AirRaidNoFrameskip-v0),\n",
       " EnvSpec(AirRaidNoFrameskip-v3),\n",
       " EnvSpec(ChopperCommandDeterministic-v0),\n",
       " EnvSpec(Asteroids-ram-v0),\n",
       " EnvSpec(Asteroids-ram-v3),\n",
       " EnvSpec(KrullDeterministic-v0),\n",
       " EnvSpec(Atlantis-ramDeterministic-v3),\n",
       " EnvSpec(Atlantis-ramDeterministic-v0),\n",
       " EnvSpec(KrullDeterministic-v3),\n",
       " EnvSpec(OffSwitchCartpoleProb-v0),\n",
       " EnvSpec(TimePilot-v3),\n",
       " EnvSpec(Go19x19-v0),\n",
       " EnvSpec(TimePilot-v0),\n",
       " EnvSpec(Solaris-ram-v0),\n",
       " EnvSpec(Solaris-ram-v3),\n",
       " EnvSpec(VentureDeterministic-v3),\n",
       " EnvSpec(FishingDerbyNoFrameskip-v3),\n",
       " EnvSpec(FishingDerbyNoFrameskip-v0),\n",
       " EnvSpec(Robotank-ram-v0),\n",
       " EnvSpec(Qbert-v3),\n",
       " EnvSpec(ReversedAddition-v0),\n",
       " EnvSpec(Qbert-v0),\n",
       " EnvSpec(Pitfall-v0),\n",
       " EnvSpec(Pitfall-v3),\n",
       " EnvSpec(RiverraidNoFrameskip-v0),\n",
       " EnvSpec(RiverraidNoFrameskip-v3),\n",
       " EnvSpec(BipedalWalkerHardcore-v2),\n",
       " EnvSpec(Venture-ram-v3),\n",
       " EnvSpec(Venture-ram-v0),\n",
       " EnvSpec(Tennis-v0),\n",
       " EnvSpec(Tennis-v3),\n",
       " EnvSpec(MontezumaRevenge-ramNoFrameskip-v0),\n",
       " EnvSpec(MontezumaRevenge-ramNoFrameskip-v3),\n",
       " EnvSpec(Go9x9-v0),\n",
       " EnvSpec(MountainCarContinuous-v0),\n",
       " EnvSpec(SemisuperPendulumNoise-v0),\n",
       " EnvSpec(Reacher-v1),\n",
       " EnvSpec(ChopperCommand-ramNoFrameskip-v0),\n",
       " EnvSpec(Taxi-v2),\n",
       " EnvSpec(Pong-v3),\n",
       " EnvSpec(Pong-v0),\n",
       " EnvSpec(UpNDownDeterministic-v0),\n",
       " EnvSpec(UpNDownDeterministic-v3),\n",
       " EnvSpec(Enduro-v0),\n",
       " EnvSpec(Enduro-v3),\n",
       " EnvSpec(Zaxxon-ramDeterministic-v3),\n",
       " EnvSpec(Krull-ramNoFrameskip-v0),\n",
       " EnvSpec(Krull-ramNoFrameskip-v3),\n",
       " EnvSpec(ElevatorAction-ramNoFrameskip-v3),\n",
       " EnvSpec(ElevatorAction-ramNoFrameskip-v0),\n",
       " EnvSpec(Venture-ramNoFrameskip-v3),\n",
       " EnvSpec(QbertNoFrameskip-v3),\n",
       " EnvSpec(Venture-ramNoFrameskip-v0),\n",
       " EnvSpec(StarGunner-ramNoFrameskip-v3),\n",
       " EnvSpec(StarGunner-ramNoFrameskip-v0),\n",
       " EnvSpec(NameThisGame-ram-v3),\n",
       " EnvSpec(YarsRevenge-ramDeterministic-v3),\n",
       " EnvSpec(Breakout-ram-v0),\n",
       " EnvSpec(Breakout-ram-v3),\n",
       " EnvSpec(PrivateEye-ramNoFrameskip-v3),\n",
       " EnvSpec(Bowling-v0),\n",
       " EnvSpec(Bowling-v3),\n",
       " EnvSpec(PrivateEye-ramNoFrameskip-v0),\n",
       " EnvSpec(BattleZoneDeterministic-v3),\n",
       " EnvSpec(BattleZoneDeterministic-v0),\n",
       " EnvSpec(PitfallNoFrameskip-v0),\n",
       " EnvSpec(PitfallNoFrameskip-v3),\n",
       " EnvSpec(AirRaid-ramDeterministic-v0),\n",
       " EnvSpec(AirRaid-ramDeterministic-v3),\n",
       " EnvSpec(CentipedeNoFrameskip-v0),\n",
       " EnvSpec(Skiing-ram-v0),\n",
       " EnvSpec(CentipedeNoFrameskip-v3),\n",
       " EnvSpec(EnduroDeterministic-v3),\n",
       " EnvSpec(VentureNoFrameskip-v0),\n",
       " EnvSpec(SpaceInvaders-ramNoFrameskip-v3),\n",
       " EnvSpec(Freeway-ram-v3),\n",
       " EnvSpec(Skiing-ram-v3),\n",
       " EnvSpec(ConvergenceControl-v0),\n",
       " EnvSpec(Riverraid-ramNoFrameskip-v3),\n",
       " EnvSpec(Riverraid-ramNoFrameskip-v0),\n",
       " EnvSpec(ChopperCommand-v3),\n",
       " EnvSpec(ChopperCommand-v0),\n",
       " EnvSpec(Pooyan-v0),\n",
       " EnvSpec(Pooyan-v3),\n",
       " EnvSpec(BattleZoneNoFrameskip-v0),\n",
       " EnvSpec(PrivateEye-v3),\n",
       " EnvSpec(PrivateEye-v0),\n",
       " EnvSpec(BattleZoneNoFrameskip-v3),\n",
       " EnvSpec(FrozenLake8x8-v0),\n",
       " EnvSpec(Alien-ramNoFrameskip-v0),\n",
       " EnvSpec(Alien-ramNoFrameskip-v3),\n",
       " EnvSpec(WizardOfWor-ramDeterministic-v0),\n",
       " EnvSpec(TutankhamDeterministic-v0),\n",
       " EnvSpec(TutankhamDeterministic-v3),\n",
       " EnvSpec(LunarLanderContinuous-v2),\n",
       " EnvSpec(UpNDown-ramDeterministic-v3),\n",
       " EnvSpec(UpNDown-ramDeterministic-v0),\n",
       " EnvSpec(Phoenix-ramNoFrameskip-v3),\n",
       " EnvSpec(Phoenix-ramNoFrameskip-v0),\n",
       " EnvSpec(Asterix-ram-v3),\n",
       " EnvSpec(Asterix-ram-v0),\n",
       " EnvSpec(Jamesbond-ramNoFrameskip-v3),\n",
       " EnvSpec(Jamesbond-ramNoFrameskip-v0),\n",
       " EnvSpec(JourneyEscape-v0),\n",
       " EnvSpec(JourneyEscape-v3),\n",
       " EnvSpec(BipedalWalker-v2),\n",
       " EnvSpec(CrazyClimberDeterministic-v3),\n",
       " EnvSpec(CrazyClimberDeterministic-v0),\n",
       " EnvSpec(FishingDerby-ramDeterministic-v3),\n",
       " EnvSpec(QbertDeterministic-v0),\n",
       " EnvSpec(SpaceInvaders-ramDeterministic-v3),\n",
       " EnvSpec(QbertDeterministic-v3),\n",
       " EnvSpec(SolarisDeterministic-v0),\n",
       " EnvSpec(SolarisDeterministic-v3),\n",
       " EnvSpec(YarsRevengeDeterministic-v0),\n",
       " EnvSpec(YarsRevengeDeterministic-v3),\n",
       " EnvSpec(SpaceInvaders-ramDeterministic-v0),\n",
       " EnvSpec(TwoRoundDeterministicReward-v0),\n",
       " EnvSpec(Bowling-ramNoFrameskip-v3),\n",
       " EnvSpec(Bowling-ramNoFrameskip-v0),\n",
       " EnvSpec(JourneyEscapeDeterministic-v3),\n",
       " EnvSpec(NameThisGame-ramNoFrameskip-v0),\n",
       " EnvSpec(TwoRoundNondeterministicReward-v0),\n",
       " EnvSpec(AmidarNoFrameskip-v0),\n",
       " EnvSpec(TimePilotNoFrameskip-v0),\n",
       " EnvSpec(MsPacmanDeterministic-v0),\n",
       " EnvSpec(MsPacmanDeterministic-v3),\n",
       " EnvSpec(Pooyan-ramDeterministic-v0),\n",
       " EnvSpec(Frostbite-ramNoFrameskip-v3),\n",
       " EnvSpec(PhoenixDeterministic-v3),\n",
       " EnvSpec(PhoenixDeterministic-v0),\n",
       " EnvSpec(CrazyClimber-ram-v0),\n",
       " EnvSpec(MontezumaRevenge-ram-v0),\n",
       " EnvSpec(MontezumaRevenge-ram-v3),\n",
       " EnvSpec(CrazyClimber-ram-v3),\n",
       " EnvSpec(StarGunner-ramDeterministic-v0),\n",
       " EnvSpec(StarGunner-ramDeterministic-v3),\n",
       " EnvSpec(Centipede-ramNoFrameskip-v3),\n",
       " EnvSpec(Centipede-ramNoFrameskip-v0),\n",
       " EnvSpec(BeamRider-ramDeterministic-v0),\n",
       " EnvSpec(BeamRider-ramDeterministic-v3),\n",
       " EnvSpec(KungFuMaster-v0),\n",
       " EnvSpec(KungFuMaster-v3),\n",
       " EnvSpec(Jamesbond-ramDeterministic-v0),\n",
       " EnvSpec(BreakoutDeterministic-v3),\n",
       " EnvSpec(BreakoutDeterministic-v0),\n",
       " EnvSpec(Jamesbond-ramDeterministic-v3),\n",
       " EnvSpec(IceHockey-v0),\n",
       " EnvSpec(IceHockey-v3),\n",
       " EnvSpec(Venture-ramDeterministic-v0),\n",
       " EnvSpec(Carnival-ram-v0),\n",
       " EnvSpec(Venture-ramDeterministic-v3),\n",
       " EnvSpec(PongDeterministic-v3),\n",
       " EnvSpec(RobotankDeterministic-v0),\n",
       " EnvSpec(RobotankDeterministic-v3),\n",
       " EnvSpec(PongDeterministic-v0),\n",
       " EnvSpec(Pong-ramDeterministic-v0),\n",
       " EnvSpec(Pong-ramDeterministic-v3),\n",
       " EnvSpec(NameThisGame-ramNoFrameskip-v3),\n",
       " EnvSpec(Berzerk-v3),\n",
       " EnvSpec(Berzerk-v0),\n",
       " EnvSpec(SemisuperPendulumDecay-v0),\n",
       " EnvSpec(MontezumaRevenge-v0),\n",
       " EnvSpec(JourneyEscape-ramDeterministic-v3),\n",
       " EnvSpec(JourneyEscape-ramDeterministic-v0),\n",
       " EnvSpec(MontezumaRevenge-v3),\n",
       " EnvSpec(AirRaid-ram-v0),\n",
       " EnvSpec(AirRaid-ram-v3),\n",
       " EnvSpec(Zaxxon-v0),\n",
       " EnvSpec(BeamRiderDeterministic-v3),\n",
       " EnvSpec(YarsRevenge-ramNoFrameskip-v0),\n",
       " EnvSpec(YarsRevenge-ramNoFrameskip-v3),\n",
       " EnvSpec(BeamRiderDeterministic-v0),\n",
       " EnvSpec(RoadRunner-ramNoFrameskip-v0),\n",
       " EnvSpec(TimePilotNoFrameskip-v3),\n",
       " EnvSpec(Phoenix-ramDeterministic-v0),\n",
       " EnvSpec(StarGunner-ram-v0),\n",
       " EnvSpec(Phoenix-ramDeterministic-v3),\n",
       " EnvSpec(Hex9x9-v0),\n",
       " EnvSpec(Skiing-v0),\n",
       " EnvSpec(Skiing-v3),\n",
       " EnvSpec(StarGunner-ram-v3),\n",
       " EnvSpec(Boxing-ramDeterministic-v0),\n",
       " EnvSpec(Boxing-ramDeterministic-v3),\n",
       " EnvSpec(AsteroidsDeterministic-v3),\n",
       " EnvSpec(PrivateEye-ram-v3),\n",
       " EnvSpec(Pooyan-ramDeterministic-v3),\n",
       " EnvSpec(Centipede-ramDeterministic-v0),\n",
       " EnvSpec(Centipede-ramDeterministic-v3),\n",
       " EnvSpec(JourneyEscapeNoFrameskip-v3),\n",
       " EnvSpec(JourneyEscapeNoFrameskip-v0),\n",
       " EnvSpec(BattleZone-ramDeterministic-v0),\n",
       " EnvSpec(BattleZone-ramDeterministic-v3),\n",
       " EnvSpec(NameThisGameNoFrameskip-v0),\n",
       " EnvSpec(NameThisGameNoFrameskip-v3),\n",
       " EnvSpec(Seaquest-ram-v3),\n",
       " EnvSpec(Seaquest-ram-v0),\n",
       " EnvSpec(AsteroidsDeterministic-v0),\n",
       " EnvSpec(ElevatorAction-ram-v3),\n",
       " EnvSpec(ElevatorAction-ram-v0),\n",
       " EnvSpec(ChopperCommand-ramDeterministic-v0),\n",
       " EnvSpec(Zaxxon-ramNoFrameskip-v3),\n",
       " EnvSpec(ChopperCommand-ramDeterministic-v3),\n",
       " EnvSpec(Krull-ramDeterministic-v3),\n",
       " EnvSpec(Krull-ramDeterministic-v0),\n",
       " EnvSpec(BankHeistDeterministic-v0),\n",
       " EnvSpec(BankHeistDeterministic-v3),\n",
       " EnvSpec(VideoPinballDeterministic-v3),\n",
       " EnvSpec(Reverse-v0),\n",
       " EnvSpec(Zaxxon-ramNoFrameskip-v0),\n",
       " EnvSpec(SeaquestDeterministic-v0),\n",
       " EnvSpec(SeaquestDeterministic-v3),\n",
       " EnvSpec(JourneyEscape-ram-v0),\n",
       " EnvSpec(JourneyEscape-ram-v3),\n",
       " EnvSpec(BerzerkDeterministic-v3),\n",
       " EnvSpec(BerzerkDeterministic-v0),\n",
       " EnvSpec(AssaultNoFrameskip-v0),\n",
       " EnvSpec(Enduro-ramDeterministic-v0),\n",
       " EnvSpec(Enduro-ramDeterministic-v3),\n",
       " EnvSpec(AssaultNoFrameskip-v3),\n",
       " EnvSpec(QbertNoFrameskip-v0),\n",
       " EnvSpec(Gopher-ramNoFrameskip-v0),\n",
       " EnvSpec(IceHockey-ramDeterministic-v0),\n",
       " EnvSpec(IceHockey-ramDeterministic-v3),\n",
       " EnvSpec(Gopher-ramNoFrameskip-v3),\n",
       " EnvSpec(PhoenixNoFrameskip-v0),\n",
       " EnvSpec(PhoenixNoFrameskip-v3),\n",
       " EnvSpec(Humanoid-v1),\n",
       " EnvSpec(NameThisGame-ram-v0),\n",
       " EnvSpec(Tutankham-ramNoFrameskip-v0),\n",
       " EnvSpec(Tutankham-ramNoFrameskip-v3),\n",
       " EnvSpec(MsPacman-ramNoFrameskip-v0),\n",
       " EnvSpec(ReversedAddition3-v0),\n",
       " EnvSpec(Assault-ramDeterministic-v0),\n",
       " EnvSpec(Atlantis-ramNoFrameskip-v0),\n",
       " EnvSpec(Atlantis-ramNoFrameskip-v3),\n",
       " EnvSpec(Assault-ramDeterministic-v3),\n",
       " EnvSpec(Skiing-ramNoFrameskip-v0),\n",
       " EnvSpec(BreakoutNoFrameskip-v0),\n",
       " EnvSpec(BreakoutNoFrameskip-v3),\n",
       " EnvSpec(KungFuMaster-ram-v0),\n",
       " EnvSpec(KungFuMaster-ram-v3),\n",
       " EnvSpec(OneRoundNondeterministicReward-v0),\n",
       " EnvSpec(NameThisGame-ramDeterministic-v0),\n",
       " EnvSpec(NameThisGame-ramDeterministic-v3),\n",
       " EnvSpec(RoadRunner-ramNoFrameskip-v3),\n",
       " EnvSpec(Frostbite-ramDeterministic-v3),\n",
       " EnvSpec(Frostbite-ramDeterministic-v0),\n",
       " EnvSpec(BankHeist-ramNoFrameskip-v0),\n",
       " EnvSpec(BankHeist-ramNoFrameskip-v3),\n",
       " EnvSpec(Qbert-ramNoFrameskip-v0),\n",
       " EnvSpec(Ant-v1),\n",
       " EnvSpec(Qbert-ramNoFrameskip-v3),\n",
       " EnvSpec(Skiing-ramNoFrameskip-v3),\n",
       " EnvSpec(YarsRevenge-ram-v0),\n",
       " EnvSpec(YarsRevenge-ram-v3),\n",
       " EnvSpec(FrostbiteNoFrameskip-v3),\n",
       " EnvSpec(FishingDerby-ram-v0),\n",
       " EnvSpec(FishingDerby-ram-v3),\n",
       " EnvSpec(FrostbiteNoFrameskip-v0),\n",
       " EnvSpec(BeamRiderNoFrameskip-v0),\n",
       " EnvSpec(Enduro-ramNoFrameskip-v3),\n",
       " EnvSpec(Enduro-ramNoFrameskip-v0),\n",
       " EnvSpec(BeamRiderNoFrameskip-v3),\n",
       " EnvSpec(CentipedeDeterministic-v3),\n",
       " EnvSpec(Gravitar-ramNoFrameskip-v0),\n",
       " EnvSpec(Gravitar-ramNoFrameskip-v3),\n",
       " EnvSpec(CentipedeDeterministic-v0),\n",
       " EnvSpec(Kangaroo-ram-v3),\n",
       " EnvSpec(Alien-ram-v3),\n",
       " EnvSpec(Kangaroo-ram-v0),\n",
       " EnvSpec(VideoPinball-ramNoFrameskip-v0),\n",
       " EnvSpec(VideoPinball-ramNoFrameskip-v3),\n",
       " EnvSpec(StarGunnerDeterministic-v3),\n",
       " EnvSpec(StarGunnerDeterministic-v0),\n",
       " EnvSpec(PongNoFrameskip-v0),\n",
       " EnvSpec(PongNoFrameskip-v3),\n",
       " EnvSpec(TimePilotDeterministic-v3),\n",
       " EnvSpec(TimePilotDeterministic-v0),\n",
       " EnvSpec(CNNClassifierTraining-v0),\n",
       " EnvSpec(Boxing-ram-v0),\n",
       " EnvSpec(Boxing-ram-v3),\n",
       " EnvSpec(Tennis-ramDeterministic-v0),\n",
       " EnvSpec(StarGunner-v0),\n",
       " EnvSpec(StarGunner-v3),\n",
       " EnvSpec(Tennis-ramDeterministic-v3),\n",
       " EnvSpec(DemonAttackNoFrameskip-v0),\n",
       " EnvSpec(DemonAttackNoFrameskip-v3),\n",
       " EnvSpec(PitfallDeterministic-v3),\n",
       " EnvSpec(Assault-ram-v3),\n",
       " EnvSpec(PooyanDeterministic-v0),\n",
       " EnvSpec(PooyanDeterministic-v3),\n",
       " EnvSpec(Assault-ram-v0),\n",
       " EnvSpec(Amidar-ram-v3),\n",
       " EnvSpec(PitfallDeterministic-v0),\n",
       " EnvSpec(Amidar-ram-v0),\n",
       " EnvSpec(ChopperCommandNoFrameskip-v0),\n",
       " EnvSpec(ChopperCommandNoFrameskip-v3),\n",
       " EnvSpec(Tutankham-ramDeterministic-v0),\n",
       " EnvSpec(VentureDeterministic-v0),\n",
       " EnvSpec(ElevatorActionDeterministic-v3),\n",
       " EnvSpec(Solaris-ramDeterministic-v3),\n",
       " EnvSpec(Solaris-ramDeterministic-v0),\n",
       " EnvSpec(ElevatorActionDeterministic-v0),\n",
       " EnvSpec(Riverraid-ram-v0),\n",
       " EnvSpec(Riverraid-ram-v3),\n",
       " EnvSpec(Solaris-v0),\n",
       " EnvSpec(KungFuMasterNoFrameskip-v3),\n",
       " EnvSpec(BattleZone-v3),\n",
       " EnvSpec(BattleZone-v0),\n",
       " EnvSpec(KungFuMasterNoFrameskip-v0),\n",
       " EnvSpec(MsPacmanNoFrameskip-v3),\n",
       " EnvSpec(MsPacmanNoFrameskip-v0),\n",
       " EnvSpec(VideoPinballNoFrameskip-v3),\n",
       " EnvSpec(Breakout-ramDeterministic-v0),\n",
       " EnvSpec(Breakout-ramDeterministic-v3),\n",
       " EnvSpec(VideoPinballNoFrameskip-v0),\n",
       " EnvSpec(PrivateEye-ramDeterministic-v0),\n",
       " EnvSpec(WizardOfWor-ram-v3),\n",
       " EnvSpec(WizardOfWor-ram-v0),\n",
       " EnvSpec(PrivateEye-ramDeterministic-v3),\n",
       " EnvSpec(Gravitar-v0),\n",
       " EnvSpec(RoadRunner-v3),\n",
       " EnvSpec(RoadRunner-v0),\n",
       " EnvSpec(Gravitar-v3),\n",
       " EnvSpec(RoadRunner-ram-v3),\n",
       " EnvSpec(Jamesbond-ram-v3),\n",
       " EnvSpec(RoadRunner-ram-v0),\n",
       " EnvSpec(MsPacman-ram-v0),\n",
       " EnvSpec(MsPacman-ram-v3),\n",
       " EnvSpec(Riverraid-ramDeterministic-v0),\n",
       " EnvSpec(Riverraid-ramDeterministic-v3),\n",
       " EnvSpec(Jamesbond-ram-v0),\n",
       " EnvSpec(UpNDownNoFrameskip-v3),\n",
       " EnvSpec(VideoPinball-ram-v3),\n",
       " EnvSpec(VideoPinball-ram-v0),\n",
       " EnvSpec(UpNDownNoFrameskip-v0),\n",
       " EnvSpec(OffSwitchCartpole-v0),\n",
       " EnvSpec(WizardOfWorNoFrameskip-v3),\n",
       " EnvSpec(WizardOfWorNoFrameskip-v0),\n",
       " EnvSpec(FreewayNoFrameskip-v3),\n",
       " EnvSpec(FreewayNoFrameskip-v0),\n",
       " EnvSpec(WizardOfWor-ramDeterministic-v3),\n",
       " EnvSpec(Asterix-ramNoFrameskip-v0),\n",
       " EnvSpec(Asterix-ramNoFrameskip-v3),\n",
       " EnvSpec(AlienNoFrameskip-v3),\n",
       " EnvSpec(AlienNoFrameskip-v0),\n",
       " EnvSpec(BankHeist-ramDeterministic-v3),\n",
       " EnvSpec(BankHeist-ramDeterministic-v0),\n",
       " EnvSpec(InvertedDoublePendulum-v1),\n",
       " EnvSpec(Asterix-v3),\n",
       " EnvSpec(WizardOfWor-ramNoFrameskip-v0),\n",
       " EnvSpec(Asterix-v0),\n",
       " EnvSpec(AsteroidsNoFrameskip-v0),\n",
       " EnvSpec(AsteroidsNoFrameskip-v3),\n",
       " EnvSpec(Pong-ramNoFrameskip-v3),\n",
       " EnvSpec(JamesbondDeterministic-v3),\n",
       " EnvSpec(WizardOfWor-ramNoFrameskip-v3),\n",
       " EnvSpec(ZaxxonDeterministic-v3),\n",
       " EnvSpec(ZaxxonDeterministic-v0),\n",
       " EnvSpec(Pong-ramNoFrameskip-v0),\n",
       " EnvSpec(ChopperCommand-ram-v3),\n",
       " EnvSpec(ChopperCommand-ram-v0),\n",
       " EnvSpec(SpaceInvaders-ramNoFrameskip-v0),\n",
       " EnvSpec(SeaquestNoFrameskip-v3),\n",
       " EnvSpec(JamesbondDeterministic-v0),\n",
       " EnvSpec(BowlingDeterministic-v3),\n",
       " EnvSpec(BowlingDeterministic-v0),\n",
       " EnvSpec(SemisuperPendulumRandom-v0),\n",
       " EnvSpec(BankHeist-v0),\n",
       " EnvSpec(BankHeist-v3),\n",
       " EnvSpec(TimePilot-ramDeterministic-v0),\n",
       " EnvSpec(TimePilot-ramDeterministic-v3),\n",
       " EnvSpec(NChain-v0),\n",
       " EnvSpec(FishingDerby-ramDeterministic-v0),\n",
       " EnvSpec(SeaquestNoFrameskip-v0),\n",
       " EnvSpec(StarGunnerNoFrameskip-v0),\n",
       " EnvSpec(Seaquest-v3),\n",
       " EnvSpec(CrazyClimber-ramNoFrameskip-v3),\n",
       " EnvSpec(CrazyClimber-ramNoFrameskip-v0),\n",
       " EnvSpec(Seaquest-v0),\n",
       " EnvSpec(CrazyClimber-v0),\n",
       " EnvSpec(CrazyClimber-v3),\n",
       " EnvSpec(MsPacman-ramDeterministic-v3),\n",
       " EnvSpec(Pitfall-ramDeterministic-v0),\n",
       " EnvSpec(Pitfall-ramDeterministic-v3),\n",
       " EnvSpec(Enduro-ram-v0),\n",
       " EnvSpec(MsPacman-ramDeterministic-v0),\n",
       " EnvSpec(Enduro-ram-v3),\n",
       " EnvSpec(GravitarDeterministic-v0),\n",
       " EnvSpec(GravitarDeterministic-v3),\n",
       " EnvSpec(Breakout-ramNoFrameskip-v3),\n",
       " EnvSpec(Swimmer-v1),\n",
       " EnvSpec(Alien-ram-v0),\n",
       " EnvSpec(Breakout-ramNoFrameskip-v0),\n",
       " EnvSpec(GravitarNoFrameskip-v0),\n",
       " EnvSpec(VideoPinballDeterministic-v0),\n",
       " EnvSpec(AsterixDeterministic-v0),\n",
       " EnvSpec(AsterixDeterministic-v3),\n",
       " EnvSpec(AlienDeterministic-v0),\n",
       " EnvSpec(AlienDeterministic-v3),\n",
       " EnvSpec(RoadRunnerDeterministic-v3),\n",
       " EnvSpec(RoadRunnerDeterministic-v0),\n",
       " EnvSpec(RepeatCopy-v0),\n",
       " EnvSpec(FrostbiteDeterministic-v0),\n",
       " EnvSpec(Bowling-ramDeterministic-v0),\n",
       " EnvSpec(Bowling-ramDeterministic-v3),\n",
       " EnvSpec(Carnival-ramDeterministic-v0),\n",
       " EnvSpec(EnduroNoFrameskip-v0),\n",
       " EnvSpec(EnduroNoFrameskip-v3),\n",
       " EnvSpec(Carnival-ramDeterministic-v3),\n",
       " EnvSpec(FrostbiteDeterministic-v3),\n",
       " EnvSpec(Asteroids-ramNoFrameskip-v3),\n",
       " EnvSpec(Asteroids-ramNoFrameskip-v0),\n",
       " EnvSpec(TennisNoFrameskip-v0),\n",
       " EnvSpec(DemonAttackDeterministic-v3),\n",
       " EnvSpec(Pitfall-ram-v0),\n",
       " EnvSpec(DemonAttackDeterministic-v0),\n",
       " EnvSpec(TennisNoFrameskip-v3),\n",
       " EnvSpec(DemonAttack-ram-v3),\n",
       " EnvSpec(DemonAttack-ram-v0),\n",
       " EnvSpec(UpNDown-v0),\n",
       " EnvSpec(BankHeistNoFrameskip-v3),\n",
       " EnvSpec(BankHeistNoFrameskip-v0),\n",
       " EnvSpec(UpNDown-v3),\n",
       " EnvSpec(Pitfall-ram-v3),\n",
       " EnvSpec(Kangaroo-ramDeterministic-v0),\n",
       " EnvSpec(Kangaroo-ramDeterministic-v3),\n",
       " EnvSpec(RobotankNoFrameskip-v3),\n",
       " EnvSpec(RobotankNoFrameskip-v0),\n",
       " EnvSpec(WizardOfWor-v3),\n",
       " EnvSpec(WizardOfWor-v0),\n",
       " EnvSpec(Hopper-v1),\n",
       " EnvSpec(Asterix-ramDeterministic-v3),\n",
       " EnvSpec(Robotank-v0),\n",
       " EnvSpec(BattleZone-ramNoFrameskip-v0),\n",
       " EnvSpec(PrivateEyeDeterministic-v3),\n",
       " EnvSpec(Pooyan-ramNoFrameskip-v0),\n",
       " EnvSpec(Pooyan-ramNoFrameskip-v3),\n",
       " EnvSpec(PrivateEyeDeterministic-v0),\n",
       " EnvSpec(ElevatorActionNoFrameskip-v0),\n",
       " EnvSpec(ElevatorActionNoFrameskip-v3),\n",
       " EnvSpec(TutankhamNoFrameskip-v0),\n",
       " EnvSpec(Zaxxon-ramDeterministic-v0),\n",
       " EnvSpec(Robotank-v3),\n",
       " EnvSpec(JamesbondNoFrameskip-v0),\n",
       " EnvSpec(JamesbondNoFrameskip-v3),\n",
       " EnvSpec(HumanoidStandup-v1),\n",
       " EnvSpec(KungFuMaster-ramDeterministic-v3),\n",
       " EnvSpec(KungFuMaster-ramDeterministic-v0),\n",
       " EnvSpec(Amidar-v3),\n",
       " EnvSpec(Amidar-v0),\n",
       " EnvSpec(BattleZone-ramNoFrameskip-v3),\n",
       " EnvSpec(BerzerkNoFrameskip-v0),\n",
       " EnvSpec(BerzerkNoFrameskip-v3),\n",
       " EnvSpec(Amidar-ramNoFrameskip-v3),\n",
       " EnvSpec(Amidar-ramNoFrameskip-v0),\n",
       " EnvSpec(Gravitar-ramDeterministic-v3),\n",
       " EnvSpec(Gravitar-ramDeterministic-v0),\n",
       " EnvSpec(Asterix-ramDeterministic-v0),\n",
       " EnvSpec(BattleZone-ram-v3),\n",
       " EnvSpec(BattleZone-ram-v0),\n",
       " EnvSpec(IceHockey-ram-v0),\n",
       " EnvSpec(IceHockey-ram-v3),\n",
       " EnvSpec(ChopperCommand-ramNoFrameskip-v3),\n",
       " EnvSpec(MountainCar-v0),\n",
       " EnvSpec(Qbert-ramDeterministic-v3),\n",
       " EnvSpec(Qbert-ramDeterministic-v0),\n",
       " EnvSpec(BeamRider-ramNoFrameskip-v3),\n",
       " EnvSpec(Carnival-ram-v3),\n",
       " EnvSpec(Carnival-v0),\n",
       " EnvSpec(FrozenLake-v0),\n",
       " EnvSpec(IceHockeyNoFrameskip-v0),\n",
       " EnvSpec(IceHockeyNoFrameskip-v3),\n",
       " EnvSpec(NameThisGameDeterministic-v3),\n",
       " EnvSpec(NameThisGameDeterministic-v0),\n",
       " EnvSpec(BeamRider-ramNoFrameskip-v0),\n",
       " EnvSpec(DoubleDunk-ramNoFrameskip-v0),\n",
       " EnvSpec(Tutankham-ram-v3),\n",
       " EnvSpec(DoubleDunk-ramNoFrameskip-v3),\n",
       " EnvSpec(YarsRevenge-v0),\n",
       " EnvSpec(IceHockey-ramNoFrameskip-v3),\n",
       " EnvSpec(IceHockey-ramNoFrameskip-v0),\n",
       " EnvSpec(YarsRevenge-v3),\n",
       " EnvSpec(MsPacman-v0),\n",
       " EnvSpec(Solaris-ramNoFrameskip-v0),\n",
       " EnvSpec(Solaris-ramNoFrameskip-v3),\n",
       " EnvSpec(MsPacman-v3),\n",
       " EnvSpec(Gopher-v3),\n",
       " EnvSpec(Walker2d-v1),\n",
       " EnvSpec(Gopher-v0),\n",
       " EnvSpec(Zaxxon-ram-v3),\n",
       " EnvSpec(Zaxxon-ram-v0),\n",
       " EnvSpec(DoubleDunkDeterministic-v0),\n",
       " EnvSpec(DoubleDunkDeterministic-v3),\n",
       " EnvSpec(PooyanNoFrameskip-v3),\n",
       " EnvSpec(PooyanNoFrameskip-v0),\n",
       " EnvSpec(Seaquest-ramNoFrameskip-v0),\n",
       " EnvSpec(Seaquest-ramNoFrameskip-v3),\n",
       " EnvSpec(FreewayDeterministic-v0),\n",
       " EnvSpec(FreewayDeterministic-v3),\n",
       " EnvSpec(Blackjack-v0),\n",
       " EnvSpec(TennisDeterministic-v3),\n",
       " EnvSpec(TennisDeterministic-v0),\n",
       " EnvSpec(Atlantis-v0),\n",
       " EnvSpec(Atlantis-v3),\n",
       " EnvSpec(EnduroDeterministic-v0),\n",
       " EnvSpec(GuessingGame-v0),\n",
       " EnvSpec(Copy-v0),\n",
       " EnvSpec(CrazyClimber-ramDeterministic-v0),\n",
       " EnvSpec(CrazyClimber-ramDeterministic-v3),\n",
       " EnvSpec(Phoenix-v3),\n",
       " EnvSpec(Phoenix-v0),\n",
       " EnvSpec(Alien-ramDeterministic-v3),\n",
       " EnvSpec(FishingDerbyDeterministic-v3),\n",
       " EnvSpec(CarnivalDeterministic-v3),\n",
       " EnvSpec(Asteroids-v0),\n",
       " EnvSpec(Asteroids-v3),\n",
       " EnvSpec(CarnivalDeterministic-v0),\n",
       " EnvSpec(Tutankham-ramDeterministic-v3),\n",
       " EnvSpec(Robotank-ramDeterministic-v3),\n",
       " EnvSpec(Robotank-ramDeterministic-v0),\n",
       " EnvSpec(IceHockeyDeterministic-v3),\n",
       " EnvSpec(IceHockeyDeterministic-v0),\n",
       " EnvSpec(Centipede-ram-v3),\n",
       " EnvSpec(FishingDerby-ramNoFrameskip-v0),\n",
       " EnvSpec(FishingDerby-ramNoFrameskip-v3),\n",
       " EnvSpec(Centipede-ram-v0),\n",
       " EnvSpec(Solaris-v3),\n",
       " EnvSpec(Tennis-ram-v0),\n",
       " EnvSpec(Assault-v3),\n",
       " EnvSpec(Assault-v0),\n",
       " EnvSpec(Tennis-ram-v3),\n",
       " EnvSpec(HalfCheetah-v1),\n",
       " EnvSpec(GopherNoFrameskip-v3),\n",
       " EnvSpec(GopherNoFrameskip-v0),\n",
       " EnvSpec(WizardOfWorDeterministic-v0),\n",
       " EnvSpec(WizardOfWorDeterministic-v3),\n",
       " EnvSpec(TimePilot-ram-v3),\n",
       " EnvSpec(DoubleDunk-v3),\n",
       " EnvSpec(DoubleDunk-v0),\n",
       " EnvSpec(Tutankham-v0),\n",
       " EnvSpec(LunarLander-v2),\n",
       " EnvSpec(Tutankham-v3),\n",
       " EnvSpec(BeamRider-v3),\n",
       " EnvSpec(BeamRider-v0),\n",
       " EnvSpec(CarnivalNoFrameskip-v0),\n",
       " EnvSpec(BoxingDeterministic-v3),\n",
       " EnvSpec(BoxingDeterministic-v0),\n",
       " EnvSpec(CarnivalNoFrameskip-v3),\n",
       " EnvSpec(Alien-v0),\n",
       " EnvSpec(Alien-v3),\n",
       " EnvSpec(Berzerk-ram-v3),\n",
       " EnvSpec(Berzerk-ram-v0),\n",
       " EnvSpec(PredictObsCartpole-v0),\n",
       " EnvSpec(AmidarDeterministic-v3),\n",
       " EnvSpec(AmidarDeterministic-v0),\n",
       " EnvSpec(SolarisNoFrameskip-v0),\n",
       " EnvSpec(GravitarNoFrameskip-v3),\n",
       " EnvSpec(AssaultDeterministic-v3),\n",
       " EnvSpec(Gravitar-ram-v0),\n",
       " EnvSpec(Gravitar-ram-v3),\n",
       " EnvSpec(AssaultDeterministic-v0),\n",
       " EnvSpec(Frostbite-v3),\n",
       " EnvSpec(Venture-v3),\n",
       " EnvSpec(Venture-v0),\n",
       " EnvSpec(Frostbite-v0),\n",
       " EnvSpec(Acrobot-v1),\n",
       " EnvSpec(Boxing-v0),\n",
       " EnvSpec(Boxing-v3),\n",
       " EnvSpec(ZaxxonNoFrameskip-v0),\n",
       " EnvSpec(DemonAttack-v3),\n",
       " EnvSpec(DemonAttack-v0),\n",
       " EnvSpec(ZaxxonNoFrameskip-v3),\n",
       " EnvSpec(Freeway-v0),\n",
       " EnvSpec(NameThisGame-v0),\n",
       " EnvSpec(NameThisGame-v3),\n",
       " EnvSpec(Freeway-v3),\n",
       " EnvSpec(KungFuMasterDeterministic-v0),\n",
       " EnvSpec(KungFuMasterDeterministic-v3),\n",
       " EnvSpec(RoadRunnerNoFrameskip-v0),\n",
       " EnvSpec(RoadRunnerNoFrameskip-v3),\n",
       " EnvSpec(Bowling-ram-v0),\n",
       " EnvSpec(Bowling-ram-v3),\n",
       " EnvSpec(Seaquest-ramDeterministic-v3),\n",
       " EnvSpec(Krull-ram-v3),\n",
       " EnvSpec(Krull-ram-v0),\n",
       " EnvSpec(Seaquest-ramDeterministic-v0),\n",
       " EnvSpec(TimePilot-ramNoFrameskip-v3),\n",
       " EnvSpec(TimePilot-ramNoFrameskip-v0),\n",
       " EnvSpec(BowlingNoFrameskip-v0),\n",
       " EnvSpec(BowlingNoFrameskip-v3),\n",
       " EnvSpec(UpNDown-ramNoFrameskip-v0),\n",
       " EnvSpec(UpNDown-ramNoFrameskip-v3),\n",
       " EnvSpec(Assault-ramNoFrameskip-v3),\n",
       " EnvSpec(Assault-ramNoFrameskip-v0),\n",
       " EnvSpec(KungFuMaster-ramNoFrameskip-v0),\n",
       " EnvSpec(KungFuMaster-ramNoFrameskip-v3),\n",
       " EnvSpec(PrivateEye-ram-v0),\n",
       " EnvSpec(BankHeist-ram-v0),\n",
       " EnvSpec(BankHeist-ram-v3),\n",
       " EnvSpec(YarsRevengeNoFrameskip-v3),\n",
       " EnvSpec(YarsRevengeNoFrameskip-v0),\n",
       " EnvSpec(ElevatorAction-v3),\n",
       " EnvSpec(ElevatorAction-v0),\n",
       " EnvSpec(DemonAttack-ramDeterministic-v0),\n",
       " EnvSpec(DemonAttack-ramDeterministic-v3),\n",
       " EnvSpec(Carnival-ramNoFrameskip-v3),\n",
       " EnvSpec(Carnival-ramNoFrameskip-v0),\n",
       " EnvSpec(FishingDerby-v0),\n",
       " EnvSpec(FishingDerby-v3),\n",
       " EnvSpec(MontezumaRevengeDeterministic-v0),\n",
       " EnvSpec(MontezumaRevengeDeterministic-v3),\n",
       " EnvSpec(UpNDown-ram-v3),\n",
       " EnvSpec(DoubleDunkNoFrameskip-v3),\n",
       " EnvSpec(DoubleDunkNoFrameskip-v0),\n",
       " EnvSpec(AsterixNoFrameskip-v3),\n",
       " EnvSpec(AsterixNoFrameskip-v0),\n",
       " EnvSpec(SolarisNoFrameskip-v3),\n",
       " EnvSpec(Amidar-ramDeterministic-v0),\n",
       " EnvSpec(Amidar-ramDeterministic-v3),\n",
       " EnvSpec(Pong-ram-v3),\n",
       " EnvSpec(Pong-ram-v0),\n",
       " EnvSpec(ElevatorAction-ramDeterministic-v0),\n",
       " EnvSpec(JourneyEscapeDeterministic-v0),\n",
       " EnvSpec(Pendulum-v0),\n",
       " EnvSpec(ElevatorAction-ramDeterministic-v3),\n",
       " EnvSpec(Freeway-ramDeterministic-v3),\n",
       " EnvSpec(Freeway-ramDeterministic-v0),\n",
       " EnvSpec(Breakout-v0),\n",
       " EnvSpec(Breakout-v3),\n",
       " EnvSpec(BeamRider-ram-v3),\n",
       " EnvSpec(Zaxxon-v3),\n",
       " EnvSpec(InvertedPendulum-v1),\n",
       " EnvSpec(BeamRider-ram-v0),\n",
       " EnvSpec(VideoPinball-v3),\n",
       " EnvSpec(VideoPinball-v0),\n",
       " EnvSpec(MsPacman-ramNoFrameskip-v3),\n",
       " EnvSpec(PrivateEyeNoFrameskip-v0),\n",
       " EnvSpec(PrivateEyeNoFrameskip-v3),\n",
       " EnvSpec(AtlantisDeterministic-v0),\n",
       " EnvSpec(AtlantisDeterministic-v3),\n",
       " EnvSpec(Berzerk-ramDeterministic-v0),\n",
       " EnvSpec(Berzerk-ramDeterministic-v3),\n",
       " EnvSpec(AirRaid-ramNoFrameskip-v3),\n",
       " EnvSpec(AirRaid-ramNoFrameskip-v0),\n",
       " EnvSpec(Roulette-v0),\n",
       " EnvSpec(Atlantis-ram-v0),\n",
       " EnvSpec(Atlantis-ram-v3),\n",
       " EnvSpec(Freeway-ramNoFrameskip-v0),\n",
       " EnvSpec(Freeway-ramNoFrameskip-v3),\n",
       " EnvSpec(Boxing-ramNoFrameskip-v3),\n",
       " EnvSpec(Boxing-ramNoFrameskip-v0),\n",
       " EnvSpec(Jamesbond-v3),\n",
       " EnvSpec(Jamesbond-v0),\n",
       " EnvSpec(Skiing-ramDeterministic-v0),\n",
       " EnvSpec(SpaceInvaders-v3),\n",
       " EnvSpec(Skiing-ramDeterministic-v3),\n",
       " EnvSpec(CrazyClimberNoFrameskip-v0),\n",
       " EnvSpec(CrazyClimberNoFrameskip-v3),\n",
       " EnvSpec(KangarooNoFrameskip-v0),\n",
       " EnvSpec(AtlantisNoFrameskip-v3),\n",
       " EnvSpec(AtlantisNoFrameskip-v0),\n",
       " EnvSpec(KangarooNoFrameskip-v3),\n",
       " EnvSpec(SpaceInvaders-v0),\n",
       " EnvSpec(SpaceInvadersNoFrameskip-v3),\n",
       " EnvSpec(StarGunnerNoFrameskip-v3),\n",
       " EnvSpec(Kangaroo-ramNoFrameskip-v3),\n",
       " EnvSpec(Kangaroo-ramNoFrameskip-v0),\n",
       " EnvSpec(FishingDerbyDeterministic-v0),\n",
       " EnvSpec(SpaceInvadersNoFrameskip-v0),\n",
       " EnvSpec(DuplicatedInput-v0),\n",
       " EnvSpec(Robotank-ramNoFrameskip-v0),\n",
       " EnvSpec(Robotank-ramNoFrameskip-v3),\n",
       " EnvSpec(Qbert-ram-v3),\n",
       " EnvSpec(DemonAttack-ramNoFrameskip-v3),\n",
       " EnvSpec(DemonAttack-ramNoFrameskip-v0),\n",
       " EnvSpec(Frostbite-ram-v3),\n",
       " EnvSpec(GopherDeterministic-v0),\n",
       " EnvSpec(GopherDeterministic-v3),\n",
       " EnvSpec(Frostbite-ram-v0),\n",
       " EnvSpec(Alien-ramDeterministic-v0),\n",
       " EnvSpec(VideoPinball-ramDeterministic-v3),\n",
       " EnvSpec(OneRoundDeterministicReward-v0),\n",
       " EnvSpec(VideoPinball-ramDeterministic-v0),\n",
       " EnvSpec(Qbert-ram-v0),\n",
       " EnvSpec(Tutankham-ram-v0),\n",
       " EnvSpec(TutankhamNoFrameskip-v3),\n",
       " EnvSpec(SkiingDeterministic-v3),\n",
       " EnvSpec(Freeway-ram-v0),\n",
       " EnvSpec(KangarooDeterministic-v3),\n",
       " EnvSpec(AirRaid-v0),\n",
       " EnvSpec(AirRaid-v3),\n",
       " EnvSpec(KangarooDeterministic-v0),\n",
       " EnvSpec(VentureNoFrameskip-v3),\n",
       " EnvSpec(Krull-v3),\n",
       " EnvSpec(JourneyEscape-ramNoFrameskip-v0),\n",
       " EnvSpec(JourneyEscape-ramNoFrameskip-v3),\n",
       " EnvSpec(Krull-v0),\n",
       " EnvSpec(KrullNoFrameskip-v3),\n",
       " EnvSpec(Riverraid-v0),\n",
       " EnvSpec(Riverraid-v3),\n",
       " EnvSpec(KrullNoFrameskip-v0),\n",
       " EnvSpec(MontezumaRevenge-ramDeterministic-v3),\n",
       " EnvSpec(MontezumaRevenge-ramDeterministic-v0),\n",
       " EnvSpec(RiverraidDeterministic-v3),\n",
       " EnvSpec(RiverraidDeterministic-v0),\n",
       " EnvSpec(Carnival-v3),\n",
       " EnvSpec(TimePilot-ram-v0),\n",
       " EnvSpec(MontezumaRevengeNoFrameskip-v3),\n",
       " EnvSpec(BoxingNoFrameskip-v0),\n",
       " EnvSpec(BoxingNoFrameskip-v3),\n",
       " EnvSpec(MontezumaRevengeNoFrameskip-v0),\n",
       " EnvSpec(SkiingDeterministic-v0),\n",
       " EnvSpec(UpNDown-ram-v0),\n",
       " EnvSpec(Kangaroo-v3),\n",
       " EnvSpec(Kangaroo-v0)]"
      ]
     },
     "execution_count": 33,
     "metadata": {},
     "output_type": "execute_result"
    }
   ],
   "source": [
    "# 使用可能な環境を列挙\n",
    "envs.registry.all()"
   ]
  },
  {
   "cell_type": "markdown",
   "metadata": {},
   "source": [
    "自分で環境を作ることも可能\n",
    "\n",
    "- 作った環境はロードするときに[このように](https://github.com/openai/gym/blob/master/gym/envs/__init__.py)registryに登録したら良い。"
   ]
  },
  {
   "cell_type": "markdown",
   "metadata": {},
   "source": [
    "## シミュレーション結果の記録とアップロード"
   ]
  },
  {
   "cell_type": "markdown",
   "metadata": {},
   "source": [
    "ある環境でのパフォーマンスを計測し、同時にビデオに記録するには、環境（env）をMonitorでラッピングすれば良い。"
   ]
  },
  {
   "cell_type": "code",
   "execution_count": 34,
   "metadata": {
    "collapsed": false,
    "scrolled": false
   },
   "outputs": [
    {
     "name": "stderr",
     "output_type": "stream",
     "text": [
      "[2017-01-18 13:50:48,084] Making new env: CartPole-v0\n",
      "[2017-01-18 13:50:48,091] DEPRECATION WARNING: env.spec.timestep_limit has been deprecated. Replace your call to `env.spec.timestep_limit` with `env.spec.tags.get('wrapper_config.TimeLimit.max_episode_steps')`. This change was made 12/28/2016 and is included in version 0.7.0\n",
      "[2017-01-18 13:50:48,092] Clearing 8 monitor files from previous run (because force=True was provided)\n",
      "[2017-01-18 13:50:48,094] Starting new video recorder writing to /Users/otsuka/git/pydata.okinawa/meetup021_main/3_openai_gym/cartpole-v0-experiment-1/openaigym.video.0.17434.video000000.mp4\n"
     ]
    },
    {
     "name": "stdout",
     "output_type": "stream",
     "text": [
      "[ 0.01426023 -0.01140579  0.04470146 -0.04862813]\n",
      "[ 0.01403212  0.18304762  0.0437289  -0.32687902]\n",
      "[ 0.01769307 -0.01266874  0.03719132 -0.02073292]\n",
      "[ 0.01743969 -0.20830378  0.03677666  0.28344843]\n",
      "[ 0.01327362 -0.01372515  0.04244563  0.00258774]\n",
      "[ 0.01299912  0.18076318  0.04249738 -0.27640672]\n",
      "[ 0.01661438 -0.0149385   0.03696925  0.02937122]\n",
      "[ 0.01631561 -0.21057057  0.03755667  0.33348531]\n",
      "[ 0.0121042  -0.40620638  0.04422638  0.63777115]\n",
      "[ 0.00398007 -0.21172814  0.0569818   0.35933736]\n",
      "[-0.00025449 -0.01746056  0.06416855  0.08515252]\n",
      "[-0.0006037  -0.21344084  0.0658716   0.39737053]\n",
      "[-0.00487252 -0.40943248  0.07381901  0.71007265]\n"
     ]
    },
    {
     "name": "stderr",
     "output_type": "stream",
     "text": [
      "[2017-01-18 13:50:48,917] Starting new video recorder writing to /Users/otsuka/git/pydata.okinawa/meetup021_main/3_openai_gym/cartpole-v0-experiment-1/openaigym.video.0.17434.video000001.mp4\n"
     ]
    },
    {
     "name": "stdout",
     "output_type": "stream",
     "text": [
      "[-0.01306117 -0.60549495  0.08802046  1.02504851]\n",
      "[-0.02517107 -0.80167169  0.10852143  1.34401905]\n",
      "[-0.0412045  -0.99797843  0.13540181  1.66858966]\n",
      "[-0.06116407 -0.80466577  0.16877361  1.42096131]\n",
      "[-0.07725739 -1.00142538  0.19719283  1.76129145]\n",
      "Episode finished after 18 timesteps\n",
      "[-0.04992798  0.03723891  0.03524338 -0.00555281]\n",
      "[-0.0491832  -0.1583703   0.03513232  0.2980382 ]\n",
      "[-0.0523506  -0.35397498  0.04109309  0.60159095]\n",
      "[-0.0594301  -0.54964693  0.05312491  0.90692907]\n",
      "[-0.07042304 -0.35528293  0.07126349  0.63140575]\n",
      "[-0.0775287  -0.16122384  0.0838916   0.36198968]\n",
      "[-0.08075318  0.03261175  0.0911314   0.09689404]\n",
      "[-0.08010094 -0.16369014  0.09306928  0.41688058]\n",
      "[-0.08337474 -0.35999933  0.10140689  0.73739286]\n",
      "[-0.09057473 -0.16641321  0.11615475  0.478268  ]\n",
      "[-0.093903    0.02689374  0.12572011  0.22433419]\n",
      "[-0.09336512  0.2200156   0.13020679 -0.0261979 ]\n",
      "[-0.08896481  0.4130532   0.12968283 -0.2751305 ]\n",
      "[-0.08070374  0.21634245  0.12418022  0.05547792]\n",
      "[-0.0763769   0.01967896  0.12528978  0.38461677]\n",
      "[-0.07598332 -0.17697835  0.13298211  0.71402939]\n",
      "[-0.07952288  0.01607646  0.1472627   0.46598553]\n",
      "[-0.07920135  0.20884426  0.15658241  0.22310241]\n",
      "[-0.07502447  0.01187128  0.16104446  0.56079458]\n",
      "[-0.07478704  0.20441031  0.17226035  0.32286579]\n",
      "[-0.07069884  0.00730765  0.17871767  0.66453851]\n",
      "[-0.07055268 -0.18979081  0.19200844  1.00774099]\n",
      "Episode finished after 22 timesteps\n",
      "[-0.03497605 -0.0335939  -0.04518329 -0.00131335]\n",
      "[-0.03564792 -0.22803971 -0.04520956  0.27677833]\n",
      "[-0.04020872 -0.0323029  -0.03967399 -0.02981397]\n",
      "[-0.04085478  0.16336488 -0.04027027 -0.33474577]\n",
      "[-0.03758748  0.35903613 -0.04696519 -0.63985096]\n",
      "[-0.03040676  0.55478032 -0.05976221 -0.94694617]\n",
      "[-0.01931115  0.36051187 -0.07870113 -0.67362334]\n",
      "[-0.01210091  0.16656686 -0.0921736  -0.40672058]\n",
      "[-0.00876958 -0.02713544 -0.10030801 -0.1444612 ]\n",
      "[-0.00931228  0.1692693  -0.10319723 -0.46702855]\n",
      "[-0.0059269   0.36568633 -0.11253781 -0.79037281]\n",
      "[ 0.00138683  0.5621589  -0.12834526 -1.11623375]\n",
      "[ 0.01263001  0.36893349 -0.15066994 -0.86640955]\n",
      "[ 0.02000868  0.56574933 -0.16799813 -1.20241819]\n",
      "[ 0.03132366  0.76259698 -0.19204649 -1.54269212]\n",
      "Episode finished after 15 timesteps\n",
      "[-0.0310065  -0.01032053  0.01595647 -0.01433684]\n",
      "[-0.03121291  0.184569    0.01566974 -0.30194291]\n",
      "[-0.02752153 -0.01077274  0.00963088 -0.00435956]\n",
      "[-0.02773698 -0.20603148  0.00954369  0.2913464 ]\n",
      "[-0.03185761 -0.0110469   0.01537062  0.00168865]\n",
      "[-0.03207855  0.18385128  0.01540439 -0.2861053 ]\n",
      "[-0.02840152 -0.01148694  0.00968228  0.01139597]\n",
      "[-0.02863126 -0.2067464   0.0099102   0.30711798]\n",
      "[-0.03276619 -0.40200815  0.01605256  0.60290978]\n",
      "[-0.04080635 -0.20711436  0.02811076  0.31532601]\n",
      "[-0.04494864 -0.01240387  0.03441728  0.03163915]\n",
      "[-0.04519672 -0.20800205  0.03505006  0.33497934]\n",
      "[-0.04935676 -0.01339601  0.04174965  0.05355217]\n",
      "[-0.04962468  0.18110321  0.04282069 -0.22567161]\n",
      "[-0.04600261  0.37558785  0.03830726 -0.50454571]\n",
      "[-0.03849086  0.57014959  0.02821635 -0.78491463]\n",
      "[-0.02708787  0.76487271  0.01251805 -1.06858854]\n",
      "[-0.01179041  0.56958744 -0.00885372 -0.77200337]\n",
      "[-0.00039866  0.37458842 -0.02429379 -0.48211927]\n",
      "[ 0.00709311  0.17981764 -0.03393617 -0.19719099]\n",
      "[ 0.01068946  0.37540815 -0.03787999 -0.50038314]\n",
      "[ 0.01819762  0.1808401  -0.04788765 -0.21987449]\n",
      "[ 0.02181442  0.3766127  -0.05228514 -0.52727033]\n",
      "[ 0.02934668  0.1822639  -0.06283055 -0.25151033]\n",
      "[ 0.03299196  0.37822416 -0.06786076 -0.56333075]\n",
      "[ 0.04055644  0.57422941 -0.07912737 -0.87659767]\n",
      "[ 0.05204103  0.38026694 -0.09665933 -0.6098035 ]\n",
      "[ 0.05964637  0.18661957 -0.1088554  -0.34906193]\n",
      "[ 0.06337876 -0.00679941 -0.11583663 -0.09259102]\n",
      "[ 0.06324277  0.18977588 -0.11768845 -0.41945778]\n",
      "[ 0.06703829 -0.00349897 -0.12607761 -0.1660715 ]\n",
      "[ 0.06696831 -0.19661185 -0.12939904  0.08432994]\n",
      "[ 0.06303607  0.00010466 -0.12771244 -0.24621513]\n",
      "[ 0.06303816  0.19679734 -0.13263674 -0.57629678]\n",
      "[ 0.06697411  0.39350469 -0.14416268 -0.90764713]\n",
      "[ 0.0748442   0.59025302 -0.16231562 -1.24194536]\n",
      "[ 0.08664926  0.39754331 -0.18715453 -1.00419186]\n",
      "[ 0.09460013  0.59460485 -0.20723837 -1.34932522]\n",
      "Episode finished after 38 timesteps\n",
      "[ 0.04466735 -0.01779831 -0.04298495  0.0288087 ]\n",
      "[ 0.04431139 -0.21227831 -0.04240877  0.30762555]\n",
      "[ 0.04006582 -0.40677112 -0.03625626  0.58663802]\n",
      "[ 0.0319304  -0.60136702 -0.0245235   0.86768303]\n",
      "[ 0.01990306 -0.40592012 -0.00716984  0.56739164]\n",
      "[ 0.01178465 -0.21069833  0.00417799  0.27245857]\n",
      "[ 0.00757069 -0.01563625  0.00962716 -0.01890368]\n",
      "[ 0.00725796 -0.21089493  0.00924909  0.27680111]\n",
      "[ 0.00304006 -0.01590614  0.01478511 -0.01295036]\n",
      "[ 0.00272194 -0.21123698  0.0145261   0.28436053]\n",
      "[-0.0015028  -0.40656306  0.02021331  0.58158928]\n",
      "[-0.00963406 -0.21173008  0.0318451   0.2953418 ]\n",
      "[-0.01386866 -0.01707625  0.03775194  0.01286998]\n",
      "[-0.01421019  0.17748452  0.03800934 -0.2676668 ]\n",
      "[-0.0106605   0.37204399  0.032656   -0.54812316]\n",
      "[-0.00321962  0.56669232  0.02169354 -0.83034084]\n",
      "[ 0.00811423  0.76151114  0.00508672 -1.1161229 ]\n",
      "[ 0.02334445  0.56632279 -0.01723574 -0.82184868]\n",
      "[ 0.03467091  0.37144085 -0.03367271 -0.53463625]\n",
      "[ 0.04209973  0.56701975 -0.04436544 -0.8377362 ]\n",
      "[ 0.05344012  0.7627186  -0.06112016 -1.14403478]\n",
      "[ 0.06869449  0.95858345 -0.08400086 -1.45524161]\n",
      "[ 0.08786616  1.15463011 -0.11310569 -1.77294193]\n",
      "[ 0.11095876  1.35083137 -0.14856453 -2.09854556]\n",
      "[ 0.13797539  1.54710213 -0.19053544 -2.43322617]\n",
      "Episode finished after 25 timesteps\n",
      "[-0.01865691  0.01393139  0.014746    0.02192529]\n",
      "[-0.01837828  0.20883879  0.01518451 -0.26606887]\n",
      "[-0.0142015   0.40374077  0.00986313 -0.55392406]\n",
      "[-0.00612669  0.59872284 -0.00121535 -0.84348323]\n",
      "[ 0.00584777  0.4036175  -0.01808502 -0.55118274]\n",
      "[ 0.01392012  0.20875416 -0.02910867 -0.26425224]\n",
      "[ 0.0180952   0.01405952 -0.03439372  0.01910926]\n",
      "[ 0.01837639 -0.18055274 -0.03401153  0.30074525]\n",
      "[ 0.01476534  0.01503706 -0.02799663 -0.00246724]\n",
      "[ 0.01506608  0.21054911 -0.02804597 -0.30385031]\n",
      "[ 0.01927706  0.40605929 -0.03412298 -0.60524469]\n",
      "[ 0.02739825  0.21143072 -0.04622787 -0.32350199]\n",
      "[ 0.03162686  0.40717939 -0.05269791 -0.63039748]\n",
      "[ 0.03977045  0.60299554 -0.06530586 -0.93919996]\n",
      "[ 0.05183036  0.79893419 -0.08408986 -1.2516677 ]\n",
      "[ 0.06780904  0.99502684 -0.10912321 -1.56946064]\n",
      "[ 0.08770958  1.19126936 -0.14051243 -1.89409212]\n",
      "[ 0.11153497  1.38760807 -0.17839427 -2.22687247]\n",
      "Episode finished after 18 timesteps\n",
      "[ 0.04923225 -0.00464438  0.02190189  0.03952069]\n",
      "[ 0.04913936 -0.20007344  0.02269231  0.33903262]\n",
      "[ 0.04513789 -0.39551082  0.02947296  0.63878417]\n",
      "[ 0.03722767 -0.59103105  0.04224864  0.94060095]\n",
      "[ 0.02540705 -0.7866962   0.06106066  1.24625417]\n",
      "[ 0.00967313 -0.59240824  0.08598574  0.97330604]\n",
      "[-0.00217504 -0.39853863  0.10545187  0.70882467]\n",
      "[-0.01014581 -0.59495092  0.11962836  1.03275194]\n",
      "[-0.02204483 -0.4016056   0.1402834   0.77989362]\n",
      "[-0.03007694 -0.59834871  0.15588127  1.11321738]\n",
      "[-0.04204391 -0.79513543  0.17814562  1.45046214]\n",
      "[-0.05794662 -0.60259332  0.20715486  1.21831796]\n",
      "Episode finished after 12 timesteps\n",
      "[-0.04965213 -0.04317467 -0.01058068 -0.0446757 ]\n",
      "[-0.05051562  0.15209739 -0.0114742  -0.34067806]\n",
      "[-0.04747367 -0.04285944 -0.01828776 -0.05163541]\n",
      "[-0.04833086  0.1525199  -0.01932047 -0.35003171]\n",
      "[-0.04528046 -0.04232203 -0.0263211  -0.06350323]\n",
      "[-0.0461269  -0.2370569  -0.02759117  0.22076039]\n",
      "[-0.05086804 -0.43177383 -0.02317596  0.50461384]\n",
      "[-0.05950352 -0.62656162 -0.01308368  0.78990394]\n",
      "[-0.07203475 -0.43126246  0.0027144   0.49313379]\n",
      "[-0.08066    -0.2361789   0.01257707  0.20130755]\n",
      "[-0.08538358 -0.04123906  0.01660322 -0.08738151]\n",
      "[-0.08620836 -0.23659502  0.01485559  0.21049316]\n",
      "[-0.09094026 -0.0416886   0.01906546 -0.07746684]\n",
      "[-0.09177403 -0.2370786   0.01751612  0.22116981]\n",
      "[-0.0965156  -0.04221134  0.02193952 -0.06593676]\n",
      "[-0.09735983 -0.23764086  0.02062078  0.23358667]\n",
      "[-0.10211265 -0.43305129  0.02529251  0.53270207]\n",
      "[-0.11077367 -0.62851966  0.03594656  0.83324606]\n",
      "[-0.12334407 -0.82411387  0.05261148  1.13701385]\n",
      "[-0.13982635 -0.62971806  0.07535175  0.86128425]\n",
      "[-0.15242071 -0.43569865  0.09257744  0.59321341]\n",
      "[-0.16113468 -0.24198622  0.10444171  0.33106795]\n",
      "[-0.1659744  -0.43842778  0.11106307  0.65477472]\n",
      "[-0.17474296 -0.24501306  0.12415856  0.39902559]\n",
      "[-0.17964322 -0.44165748  0.13213907  0.72813054]\n",
      "[-0.18847637 -0.63833455  0.14670168  1.05931022]\n",
      "[-0.20124306 -0.44542803  0.16788789  0.81603434]\n",
      "[-0.21015162 -0.25295354  0.18420857  0.5805094 ]\n",
      "[-0.21521069 -0.06082549  0.19581876  0.35104465]\n",
      "[-0.2164272  -0.25811463  0.20283966  0.69852618]\n",
      "Episode finished after 30 timesteps\n"
     ]
    },
    {
     "name": "stderr",
     "output_type": "stream",
     "text": [
      "[2017-01-18 13:50:51,966] Starting new video recorder writing to /Users/otsuka/git/pydata.okinawa/meetup021_main/3_openai_gym/cartpole-v0-experiment-1/openaigym.video.0.17434.video000008.mp4\n"
     ]
    },
    {
     "name": "stdout",
     "output_type": "stream",
     "text": [
      "[-0.01078491 -0.01191037 -0.04722849 -0.01581334]\n",
      "[-0.01102311  0.18385596 -0.04754476 -0.32301542]\n",
      "[-0.00734599 -0.01055786 -0.05400507 -0.04569712]\n",
      "[-0.00755715  0.18529523 -0.05491901 -0.35491823]\n",
      "[-0.00385125 -0.00900459 -0.06201737 -0.08004597]\n",
      "[-0.00403134  0.18694904 -0.06361829 -0.39163277]\n",
      "[-0.00029236  0.38291344 -0.07145095 -0.70367589]\n",
      "[ 0.00736591  0.1888506  -0.08552447 -0.43431308]\n",
      "[ 0.01114292 -0.00496302 -0.09421073 -0.16976878]\n",
      "[ 0.01104366  0.19137229 -0.0976061  -0.49062276]\n",
      "[ 0.01487111  0.38772586 -0.10741856 -0.81240188]\n",
      "[ 0.02262563  0.19422633 -0.1236666  -0.5553459 ]\n",
      "[ 0.02651015  0.39084779 -0.13477351 -0.88429108]\n",
      "[ 0.03432711  0.58751696 -0.15245933 -1.21612324]\n",
      "[ 0.04607745  0.78424055 -0.1767818  -1.55243541]\n",
      "[ 0.06176226  0.98098658 -0.20783051 -1.89465851]\n",
      "Episode finished after 16 timesteps\n",
      "[ 0.01674005 -0.02430572 -0.04798115 -0.02958559]\n",
      "[ 0.01625393  0.1714703  -0.04857286 -0.33701269]\n",
      "[ 0.01968334 -0.02292798 -0.05531311 -0.06003399]\n",
      "[ 0.01922478 -0.21721503 -0.05651379  0.2146971 ]\n",
      "[ 0.01488048 -0.02133258 -0.05221985 -0.0952637 ]\n",
      "[ 0.01445383 -0.2156687  -0.05412512  0.18049747]\n",
      "[ 0.01014045 -0.01981569 -0.05051517 -0.12875685]\n",
      "[ 0.00974414 -0.21417897 -0.05309031  0.14757102]\n",
      "[ 0.00546056 -0.40850205 -0.05013889  0.42304372]\n",
      "[-0.00270948 -0.21270697 -0.04167802  0.11498553]\n",
      "[-0.00696362 -0.01701338 -0.0393783  -0.19054973]\n",
      "[-0.00730389  0.17864914 -0.0431893  -0.49539022]\n",
      "[-0.00373091  0.37435269 -0.0530971  -0.80136551]\n",
      "[ 0.00375615  0.57016109 -0.06912441 -1.11026739]\n",
      "[ 0.01515937  0.37601204 -0.09132976 -0.84004569]\n",
      "[ 0.02267961  0.57225429 -0.10813068 -1.1599959 ]\n",
      "[ 0.0341247   0.76860593 -0.13133059 -1.4845317 ]\n",
      "[ 0.04949682  0.9650617  -0.16102123 -1.81517799]\n",
      "[ 0.06879805  0.77205696 -0.19732479 -1.57655185]\n",
      "Episode finished after 19 timesteps\n"
     ]
    }
   ],
   "source": [
    "import gym\n",
    "from gym import wrappers    # ラッパの呼び出し\n",
    "env = gym.make('CartPole-v0')\n",
    "env = wrappers.Monitor(env, './cartpole-v0-experiment-1', force=True)  # envをMonitorでラッピング。force=Trueで前の結果を削除。\n",
    "for i_episode in range(10):\n",
    "    observation = env.reset()\n",
    "    for t in range(100):\n",
    "        env.render()\n",
    "        print(observation)\n",
    "        action = env.action_space.sample()\n",
    "        observation, reward, done, info = env.step(action)\n",
    "        if done:\n",
    "            print(\"Episode finished after {} timesteps\".format(t+1))\n",
    "            break\n",
    "            \n",
    "env.render(close=True)"
   ]
  },
  {
   "cell_type": "code",
   "execution_count": 35,
   "metadata": {
    "collapsed": false
   },
   "outputs": [],
   "source": [
    "#!open ."
   ]
  },
  {
   "cell_type": "code",
   "execution_count": 36,
   "metadata": {
    "collapsed": true
   },
   "outputs": [],
   "source": [
    "# 結果をOpenAI Gym側のサーバーにアップロードする方法。\n",
    "\n",
    "import gym\n",
    "#gym.upload('/tmp/cartpole-v0-experiment-1', api_key='YOUR_API_KEY')"
   ]
  },
  {
   "cell_type": "markdown",
   "metadata": {},
   "source": [
    "## パフォーマンス評価\n",
    "\n",
    "gistに再現方法を書き、世界のみんなとシェアすれば完成。\n",
    "\n",
    "- https://gym.openai.com/envs/CartPole-v0\n",
    "- https://gym.openai.com/envs/LunarLander-v2"
   ]
  },
  {
   "cell_type": "markdown",
   "metadata": {},
   "source": [
    "## レビュー\n",
    "\n",
    "- 実装した手法がコミュニティにとって有用な感じであれば、コミュニティメンバーにレビューしてもらうことも可能。\n"
   ]
  }
 ],
 "metadata": {
  "anaconda-cloud": {},
  "kernelspec": {
   "display_name": "Python [conda root]",
   "language": "python",
   "name": "conda-root-py"
  },
  "language_info": {
   "codemirror_mode": {
    "name": "ipython",
    "version": 2
   },
   "file_extension": ".py",
   "mimetype": "text/x-python",
   "name": "python",
   "nbconvert_exporter": "python",
   "pygments_lexer": "ipython2",
   "version": "2.7.11"
  }
 },
 "nbformat": 4,
 "nbformat_minor": 2
}
